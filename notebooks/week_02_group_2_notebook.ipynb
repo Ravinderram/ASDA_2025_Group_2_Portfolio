{
 "cells": [
  {
   "cell_type": "code",
   "execution_count": 103,
   "id": "b9e3d02b",
   "metadata": {},
   "outputs": [
    {
     "name": "stdout",
     "output_type": "stream",
     "text": [
      "Path to dataset files: C:\\Users\\sassa\\.cache\\kagglehub\\datasets\\camnugent\\california-housing-prices\\versions\\1\n"
     ]
    }
   ],
   "source": [
    "# Basic EDA of two datasets\n",
    "# Dataset 1: California Housing Prices\n",
    "\n",
    "import kagglehub\n",
    "import pandas as pd\n",
    "\n",
    "# 1. Dataset overview\n",
    "# Download latest version\n",
    "path = kagglehub.dataset_download(\"camnugent/california-housing-prices\")\n",
    "\n",
    "print(\"Path to dataset files:\", path)\n"
   ]
  },
  {
   "cell_type": "code",
   "execution_count": 104,
   "id": "70f96d58",
   "metadata": {},
   "outputs": [],
   "source": [
    "# Name dataset\n",
    "housing_df = pd.read_csv(f\"{path}/housing.csv\")"
   ]
  },
  {
   "cell_type": "code",
   "execution_count": 105,
   "id": "8de37fae",
   "metadata": {},
   "outputs": [
    {
     "data": {
      "text/plain": [
       "(20640, 10)"
      ]
     },
     "execution_count": 105,
     "metadata": {},
     "output_type": "execute_result"
    }
   ],
   "source": [
    "# Get rows and columns of dataset\n",
    "housing_df.shape"
   ]
  },
  {
   "cell_type": "code",
   "execution_count": 106,
   "id": "a57e4ca2",
   "metadata": {},
   "outputs": [
    {
     "data": {
      "text/plain": [
       "Index(['longitude', 'latitude', 'housing_median_age', 'total_rooms',\n",
       "       'total_bedrooms', 'population', 'households', 'median_income',\n",
       "       'median_house_value', 'ocean_proximity'],\n",
       "      dtype='object')"
      ]
     },
     "execution_count": 106,
     "metadata": {},
     "output_type": "execute_result"
    }
   ],
   "source": [
    "# Get column names\n",
    "housing_df.columns\n"
   ]
  },
  {
   "cell_type": "code",
   "execution_count": 107,
   "id": "8365943e",
   "metadata": {},
   "outputs": [
    {
     "data": {
      "text/plain": [
       "longitude             float64\n",
       "latitude              float64\n",
       "housing_median_age    float64\n",
       "total_rooms           float64\n",
       "total_bedrooms        float64\n",
       "population            float64\n",
       "households            float64\n",
       "median_income         float64\n",
       "median_house_value    float64\n",
       "ocean_proximity        object\n",
       "dtype: object"
      ]
     },
     "execution_count": 107,
     "metadata": {},
     "output_type": "execute_result"
    }
   ],
   "source": [
    "# Get column types\n",
    "housing_df.dtypes"
   ]
  },
  {
   "cell_type": "code",
   "execution_count": 108,
   "id": "aae76047",
   "metadata": {},
   "outputs": [
    {
     "data": {
      "text/plain": [
       "longitude             20640\n",
       "latitude              20640\n",
       "housing_median_age    20640\n",
       "total_rooms           20640\n",
       "total_bedrooms        20433\n",
       "population            20640\n",
       "households            20640\n",
       "median_income         20640\n",
       "median_house_value    20640\n",
       "ocean_proximity       20640\n",
       "dtype: int64"
      ]
     },
     "execution_count": 108,
     "metadata": {},
     "output_type": "execute_result"
    }
   ],
   "source": [
    "# Get non-null counts\n",
    "housing_df.notnull().sum()"
   ]
  },
  {
   "cell_type": "code",
   "execution_count": 109,
   "id": "6a20b233",
   "metadata": {},
   "outputs": [
    {
     "data": {
      "text/plain": [
       "longitude               844\n",
       "latitude                862\n",
       "housing_median_age       52\n",
       "total_rooms            5926\n",
       "total_bedrooms         1923\n",
       "population             3888\n",
       "households             1815\n",
       "median_income         12928\n",
       "median_house_value     3842\n",
       "ocean_proximity           5\n",
       "dtype: int64"
      ]
     },
     "execution_count": 109,
     "metadata": {},
     "output_type": "execute_result"
    }
   ],
   "source": [
    "# Get number of unique values in each column\n",
    "housing_df.nunique()"
   ]
  },
  {
   "cell_type": "code",
   "execution_count": 110,
   "id": "7f4083b4",
   "metadata": {},
   "outputs": [
    {
     "data": {
      "text/html": [
       "<div>\n",
       "<style scoped>\n",
       "    .dataframe tbody tr th:only-of-type {\n",
       "        vertical-align: middle;\n",
       "    }\n",
       "\n",
       "    .dataframe tbody tr th {\n",
       "        vertical-align: top;\n",
       "    }\n",
       "\n",
       "    .dataframe thead th {\n",
       "        text-align: right;\n",
       "    }\n",
       "</style>\n",
       "<table border=\"1\" class=\"dataframe\">\n",
       "  <thead>\n",
       "    <tr style=\"text-align: right;\">\n",
       "      <th></th>\n",
       "      <th>longitude</th>\n",
       "      <th>latitude</th>\n",
       "      <th>housing_median_age</th>\n",
       "      <th>total_rooms</th>\n",
       "      <th>total_bedrooms</th>\n",
       "      <th>population</th>\n",
       "      <th>households</th>\n",
       "      <th>median_income</th>\n",
       "      <th>median_house_value</th>\n",
       "      <th>ocean_proximity</th>\n",
       "    </tr>\n",
       "  </thead>\n",
       "  <tbody>\n",
       "    <tr>\n",
       "      <th>4698</th>\n",
       "      <td>-118.38</td>\n",
       "      <td>34.08</td>\n",
       "      <td>25.0</td>\n",
       "      <td>4625.0</td>\n",
       "      <td>1307.0</td>\n",
       "      <td>1739.0</td>\n",
       "      <td>1191.0</td>\n",
       "      <td>3.3989</td>\n",
       "      <td>485000.0</td>\n",
       "      <td>&lt;1H OCEAN</td>\n",
       "    </tr>\n",
       "    <tr>\n",
       "      <th>17113</th>\n",
       "      <td>-122.18</td>\n",
       "      <td>37.47</td>\n",
       "      <td>37.0</td>\n",
       "      <td>2848.0</td>\n",
       "      <td>328.0</td>\n",
       "      <td>852.0</td>\n",
       "      <td>327.0</td>\n",
       "      <td>13.3670</td>\n",
       "      <td>500001.0</td>\n",
       "      <td>NEAR BAY</td>\n",
       "    </tr>\n",
       "    <tr>\n",
       "      <th>14781</th>\n",
       "      <td>-117.09</td>\n",
       "      <td>32.57</td>\n",
       "      <td>10.0</td>\n",
       "      <td>2198.0</td>\n",
       "      <td>368.0</td>\n",
       "      <td>1645.0</td>\n",
       "      <td>350.0</td>\n",
       "      <td>4.5547</td>\n",
       "      <td>160700.0</td>\n",
       "      <td>NEAR OCEAN</td>\n",
       "    </tr>\n",
       "    <tr>\n",
       "      <th>14715</th>\n",
       "      <td>-117.05</td>\n",
       "      <td>32.80</td>\n",
       "      <td>25.0</td>\n",
       "      <td>1905.0</td>\n",
       "      <td>250.0</td>\n",
       "      <td>865.0</td>\n",
       "      <td>253.0</td>\n",
       "      <td>6.4797</td>\n",
       "      <td>249000.0</td>\n",
       "      <td>&lt;1H OCEAN</td>\n",
       "    </tr>\n",
       "    <tr>\n",
       "      <th>5771</th>\n",
       "      <td>-118.27</td>\n",
       "      <td>34.15</td>\n",
       "      <td>22.0</td>\n",
       "      <td>2265.0</td>\n",
       "      <td>637.0</td>\n",
       "      <td>1684.0</td>\n",
       "      <td>561.0</td>\n",
       "      <td>2.6729</td>\n",
       "      <td>217100.0</td>\n",
       "      <td>&lt;1H OCEAN</td>\n",
       "    </tr>\n",
       "  </tbody>\n",
       "</table>\n",
       "</div>"
      ],
      "text/plain": [
       "       longitude  latitude  housing_median_age  total_rooms  total_bedrooms  \\\n",
       "4698     -118.38     34.08                25.0       4625.0          1307.0   \n",
       "17113    -122.18     37.47                37.0       2848.0           328.0   \n",
       "14781    -117.09     32.57                10.0       2198.0           368.0   \n",
       "14715    -117.05     32.80                25.0       1905.0           250.0   \n",
       "5771     -118.27     34.15                22.0       2265.0           637.0   \n",
       "\n",
       "       population  households  median_income  median_house_value  \\\n",
       "4698       1739.0      1191.0         3.3989            485000.0   \n",
       "17113       852.0       327.0        13.3670            500001.0   \n",
       "14781      1645.0       350.0         4.5547            160700.0   \n",
       "14715       865.0       253.0         6.4797            249000.0   \n",
       "5771       1684.0       561.0         2.6729            217100.0   \n",
       "\n",
       "      ocean_proximity  \n",
       "4698        <1H OCEAN  \n",
       "17113        NEAR BAY  \n",
       "14781      NEAR OCEAN  \n",
       "14715       <1H OCEAN  \n",
       "5771        <1H OCEAN  "
      ]
     },
     "execution_count": 110,
     "metadata": {},
     "output_type": "execute_result"
    }
   ],
   "source": [
    "# Get random sample of 10 rows to see example values\n",
    "housing_examples = housing_df.sample(5)\n",
    "housing_examples"
   ]
  },
  {
   "cell_type": "code",
   "execution_count": 111,
   "id": "00e2e1a9",
   "metadata": {},
   "outputs": [
    {
     "name": "stdout",
     "output_type": "stream",
     "text": [
      "| Column name        | Data type   |   Non-null count |   Unique values | Examples                                              |\n",
      "|:-------------------|:------------|-----------------:|----------------:|:------------------------------------------------------|\n",
      "| longitude          | float64     |            20640 |             844 | -118.38, -122.18, -117.09, -117.05, -118.27           |\n",
      "| latitude           | float64     |            20640 |             862 | 34.08, 37.47, 32.57, 32.8, 34.15                      |\n",
      "| housing_median_age | float64     |            20640 |              52 | 25.0, 37.0, 10.0, 25.0, 22.0                          |\n",
      "| total_rooms        | float64     |            20640 |            5926 | 4625.0, 2848.0, 2198.0, 1905.0, 2265.0                |\n",
      "| total_bedrooms     | float64     |            20433 |            1923 | 1307.0, 328.0, 368.0, 250.0, 637.0                    |\n",
      "| population         | float64     |            20640 |            3888 | 1739.0, 852.0, 1645.0, 865.0, 1684.0                  |\n",
      "| households         | float64     |            20640 |            1815 | 1191.0, 327.0, 350.0, 253.0, 561.0                    |\n",
      "| median_income      | float64     |            20640 |           12928 | 3.3989, 13.367, 4.5547, 6.4797, 2.6729                |\n",
      "| median_house_value | float64     |            20640 |            3842 | 485000.0, 500001.0, 160700.0, 249000.0, 217100.0      |\n",
      "| ocean_proximity    | object      |            20640 |               5 | <1H OCEAN, NEAR BAY, NEAR OCEAN, <1H OCEAN, <1H OCEAN |\n"
     ]
    }
   ],
   "source": [
    "# Create summary table\n",
    "summary_1_2 = pd.DataFrame({\"Column name\":housing_df.columns, \"Data type\": housing_df.dtypes, \"Non-null count\": housing_df.notnull().sum(), \"Unique values\":housing_df.nunique()})\n",
    "\n",
    "summary_1_2[\"Examples\"] = [\n",
    "    \", \".join(map(str, housing_examples[col].tolist()))\n",
    "    for col in housing_df.columns\n",
    "]\n",
    "\n",
    "summary_1_2 = summary_1_2.reset_index(drop=True)\n",
    "\n",
    "markdown_table1_2 = summary_1_2.to_markdown(index=False)\n",
    "#print(markdown_table1_2)\n",
    "print(markdown_table1_2)"
   ]
  },
  {
   "cell_type": "code",
   "execution_count": 112,
   "id": "d9c5cfd1",
   "metadata": {},
   "outputs": [
    {
     "name": "stdout",
     "output_type": "stream",
     "text": [
      "Path to dataset files: C:\\Users\\sassa\\.cache\\kagglehub\\datasets\\sujalsuthar\\amazon-delivery-dataset\\versions\\1\n"
     ]
    }
   ],
   "source": [
    "#Dataset 2: Amazon\n",
    "#2. Structure of the data\n",
    "\n",
    "# Download latest version\n",
    "path_amazon = kagglehub.dataset_download(\"sujalsuthar/amazon-delivery-dataset\")\n",
    "\n",
    "print(\"Path to dataset files:\", path_amazon)\n",
    "amazon_df = pd.read_csv(f\"{path_amazon}/Amazon_delivery.csv\")"
   ]
  },
  {
   "cell_type": "code",
   "execution_count": 113,
   "id": "4608ae3e",
   "metadata": {},
   "outputs": [
    {
     "data": {
      "text/plain": [
       "(43739, 16)"
      ]
     },
     "execution_count": 113,
     "metadata": {},
     "output_type": "execute_result"
    }
   ],
   "source": [
    "# Get size of dataset\n",
    "amazon_df.shape"
   ]
  },
  {
   "cell_type": "code",
   "execution_count": 114,
   "id": "1b7ec13f",
   "metadata": {},
   "outputs": [],
   "source": [
    "# Name dataset\n",
    "amazon_df = pd.read_csv(f\"{path_amazon}/amazon_delivery.csv\")"
   ]
  },
  {
   "cell_type": "code",
   "execution_count": 115,
   "id": "06456891",
   "metadata": {},
   "outputs": [
    {
     "data": {
      "text/plain": [
       "Index(['Order_ID', 'Agent_Age', 'Agent_Rating', 'Store_Latitude',\n",
       "       'Store_Longitude', 'Drop_Latitude', 'Drop_Longitude', 'Order_Date',\n",
       "       'Order_Time', 'Pickup_Time', 'Weather', 'Traffic', 'Vehicle', 'Area',\n",
       "       'Delivery_Time', 'Category'],\n",
       "      dtype='object')"
      ]
     },
     "execution_count": 115,
     "metadata": {},
     "output_type": "execute_result"
    }
   ],
   "source": [
    "# Get column names\n",
    "amazon_df.columns\n"
   ]
  },
  {
   "cell_type": "code",
   "execution_count": 116,
   "id": "ed5d97b1",
   "metadata": {},
   "outputs": [
    {
     "data": {
      "text/plain": [
       "Order_ID            object\n",
       "Agent_Age            int64\n",
       "Agent_Rating       float64\n",
       "Store_Latitude     float64\n",
       "Store_Longitude    float64\n",
       "Drop_Latitude      float64\n",
       "Drop_Longitude     float64\n",
       "Order_Date          object\n",
       "Order_Time          object\n",
       "Pickup_Time         object\n",
       "Weather             object\n",
       "Traffic             object\n",
       "Vehicle             object\n",
       "Area                object\n",
       "Delivery_Time        int64\n",
       "Category            object\n",
       "dtype: object"
      ]
     },
     "execution_count": 116,
     "metadata": {},
     "output_type": "execute_result"
    }
   ],
   "source": [
    "# Get column types\n",
    "amazon_df.dtypes"
   ]
  },
  {
   "cell_type": "code",
   "execution_count": 117,
   "id": "f1eb0cec",
   "metadata": {},
   "outputs": [
    {
     "data": {
      "text/plain": [
       "Order_ID           43739\n",
       "Agent_Age          43739\n",
       "Agent_Rating       43685\n",
       "Store_Latitude     43739\n",
       "Store_Longitude    43739\n",
       "Drop_Latitude      43739\n",
       "Drop_Longitude     43739\n",
       "Order_Date         43739\n",
       "Order_Time         43739\n",
       "Pickup_Time        43739\n",
       "Weather            43648\n",
       "Traffic            43739\n",
       "Vehicle            43739\n",
       "Area               43739\n",
       "Delivery_Time      43739\n",
       "Category           43739\n",
       "dtype: int64"
      ]
     },
     "execution_count": 117,
     "metadata": {},
     "output_type": "execute_result"
    }
   ],
   "source": [
    "# Get non-null counts\n",
    "amazon_df.notnull().sum()"
   ]
  },
  {
   "cell_type": "code",
   "execution_count": 118,
   "id": "288d0222",
   "metadata": {},
   "outputs": [
    {
     "data": {
      "text/plain": [
       "Order_ID           43739\n",
       "Agent_Age             22\n",
       "Agent_Rating          28\n",
       "Store_Latitude       521\n",
       "Store_Longitude      415\n",
       "Drop_Latitude       4367\n",
       "Drop_Longitude      4367\n",
       "Order_Date            44\n",
       "Order_Time           177\n",
       "Pickup_Time          193\n",
       "Weather                6\n",
       "Traffic                5\n",
       "Vehicle                4\n",
       "Area                   4\n",
       "Delivery_Time         89\n",
       "Category              16\n",
       "dtype: int64"
      ]
     },
     "execution_count": 118,
     "metadata": {},
     "output_type": "execute_result"
    }
   ],
   "source": [
    "# Get number of unique values in each column\n",
    "amazon_df.nunique()"
   ]
  },
  {
   "cell_type": "code",
   "execution_count": 119,
   "id": "f3325824",
   "metadata": {},
   "outputs": [
    {
     "data": {
      "text/html": [
       "<div>\n",
       "<style scoped>\n",
       "    .dataframe tbody tr th:only-of-type {\n",
       "        vertical-align: middle;\n",
       "    }\n",
       "\n",
       "    .dataframe tbody tr th {\n",
       "        vertical-align: top;\n",
       "    }\n",
       "\n",
       "    .dataframe thead th {\n",
       "        text-align: right;\n",
       "    }\n",
       "</style>\n",
       "<table border=\"1\" class=\"dataframe\">\n",
       "  <thead>\n",
       "    <tr style=\"text-align: right;\">\n",
       "      <th></th>\n",
       "      <th>Order_ID</th>\n",
       "      <th>Agent_Age</th>\n",
       "      <th>Agent_Rating</th>\n",
       "      <th>Store_Latitude</th>\n",
       "      <th>Store_Longitude</th>\n",
       "      <th>Drop_Latitude</th>\n",
       "      <th>Drop_Longitude</th>\n",
       "      <th>Order_Date</th>\n",
       "      <th>Order_Time</th>\n",
       "      <th>Pickup_Time</th>\n",
       "      <th>Weather</th>\n",
       "      <th>Traffic</th>\n",
       "      <th>Vehicle</th>\n",
       "      <th>Area</th>\n",
       "      <th>Delivery_Time</th>\n",
       "      <th>Category</th>\n",
       "    </tr>\n",
       "  </thead>\n",
       "  <tbody>\n",
       "    <tr>\n",
       "      <th>14604</th>\n",
       "      <td>ycky176183237</td>\n",
       "      <td>31</td>\n",
       "      <td>4.5</td>\n",
       "      <td>12.310972</td>\n",
       "      <td>76.659264</td>\n",
       "      <td>12.380972</td>\n",
       "      <td>76.729264</td>\n",
       "      <td>2022-03-23</td>\n",
       "      <td>22:10:00</td>\n",
       "      <td>22:25:00</td>\n",
       "      <td>Sandstorms</td>\n",
       "      <td>Low</td>\n",
       "      <td>scooter</td>\n",
       "      <td>Metropolitian</td>\n",
       "      <td>85</td>\n",
       "      <td>Jewelry</td>\n",
       "    </tr>\n",
       "    <tr>\n",
       "      <th>6357</th>\n",
       "      <td>znaq525848611</td>\n",
       "      <td>38</td>\n",
       "      <td>4.3</td>\n",
       "      <td>22.753839</td>\n",
       "      <td>75.897429</td>\n",
       "      <td>22.783839</td>\n",
       "      <td>75.927429</td>\n",
       "      <td>2022-03-30</td>\n",
       "      <td>21:10:00</td>\n",
       "      <td>21:20:00</td>\n",
       "      <td>Fog</td>\n",
       "      <td>Jam</td>\n",
       "      <td>van</td>\n",
       "      <td>Metropolitian</td>\n",
       "      <td>195</td>\n",
       "      <td>Clothing</td>\n",
       "    </tr>\n",
       "    <tr>\n",
       "      <th>788</th>\n",
       "      <td>rpge560994264</td>\n",
       "      <td>22</td>\n",
       "      <td>4.6</td>\n",
       "      <td>18.520016</td>\n",
       "      <td>73.830547</td>\n",
       "      <td>18.530016</td>\n",
       "      <td>73.840547</td>\n",
       "      <td>2022-03-28</td>\n",
       "      <td>09:20:00</td>\n",
       "      <td>09:30:00</td>\n",
       "      <td>Sunny</td>\n",
       "      <td>Low</td>\n",
       "      <td>motorcycle</td>\n",
       "      <td>Metropolitian</td>\n",
       "      <td>80</td>\n",
       "      <td>Outdoors</td>\n",
       "    </tr>\n",
       "    <tr>\n",
       "      <th>28454</th>\n",
       "      <td>ihas367566779</td>\n",
       "      <td>21</td>\n",
       "      <td>4.7</td>\n",
       "      <td>13.026286</td>\n",
       "      <td>80.275235</td>\n",
       "      <td>13.076286</td>\n",
       "      <td>80.325235</td>\n",
       "      <td>2022-04-03</td>\n",
       "      <td>18:55:00</td>\n",
       "      <td>19:00:00</td>\n",
       "      <td>Fog</td>\n",
       "      <td>Medium</td>\n",
       "      <td>motorcycle</td>\n",
       "      <td>Urban</td>\n",
       "      <td>135</td>\n",
       "      <td>Apparel</td>\n",
       "    </tr>\n",
       "    <tr>\n",
       "      <th>3614</th>\n",
       "      <td>jpou654965948</td>\n",
       "      <td>25</td>\n",
       "      <td>5.0</td>\n",
       "      <td>0.000000</td>\n",
       "      <td>0.000000</td>\n",
       "      <td>0.130000</td>\n",
       "      <td>0.130000</td>\n",
       "      <td>2022-03-02</td>\n",
       "      <td>19:50:00</td>\n",
       "      <td>20:00:00</td>\n",
       "      <td>Stormy</td>\n",
       "      <td>Jam</td>\n",
       "      <td>scooter</td>\n",
       "      <td>Urban</td>\n",
       "      <td>135</td>\n",
       "      <td>Sports</td>\n",
       "    </tr>\n",
       "  </tbody>\n",
       "</table>\n",
       "</div>"
      ],
      "text/plain": [
       "            Order_ID  Agent_Age  Agent_Rating  Store_Latitude  \\\n",
       "14604  ycky176183237         31           4.5       12.310972   \n",
       "6357   znaq525848611         38           4.3       22.753839   \n",
       "788    rpge560994264         22           4.6       18.520016   \n",
       "28454  ihas367566779         21           4.7       13.026286   \n",
       "3614   jpou654965948         25           5.0        0.000000   \n",
       "\n",
       "       Store_Longitude  Drop_Latitude  Drop_Longitude  Order_Date Order_Time  \\\n",
       "14604        76.659264      12.380972       76.729264  2022-03-23   22:10:00   \n",
       "6357         75.897429      22.783839       75.927429  2022-03-30   21:10:00   \n",
       "788          73.830547      18.530016       73.840547  2022-03-28   09:20:00   \n",
       "28454        80.275235      13.076286       80.325235  2022-04-03   18:55:00   \n",
       "3614          0.000000       0.130000        0.130000  2022-03-02   19:50:00   \n",
       "\n",
       "      Pickup_Time     Weather  Traffic      Vehicle            Area  \\\n",
       "14604    22:25:00  Sandstorms     Low      scooter   Metropolitian    \n",
       "6357     21:20:00         Fog     Jam           van  Metropolitian    \n",
       "788      09:30:00       Sunny     Low   motorcycle   Metropolitian    \n",
       "28454    19:00:00         Fog  Medium   motorcycle           Urban    \n",
       "3614     20:00:00      Stormy     Jam      scooter           Urban    \n",
       "\n",
       "       Delivery_Time  Category  \n",
       "14604             85   Jewelry  \n",
       "6357             195  Clothing  \n",
       "788               80  Outdoors  \n",
       "28454            135   Apparel  \n",
       "3614             135    Sports  "
      ]
     },
     "execution_count": 119,
     "metadata": {},
     "output_type": "execute_result"
    }
   ],
   "source": [
    "# Get random sample of 5 rows to see example values\n",
    "examples = amazon_df.sample(5)\n",
    "examples"
   ]
  },
  {
   "cell_type": "code",
   "execution_count": 120,
   "id": "d17cf1ce",
   "metadata": {},
   "outputs": [
    {
     "name": "stdout",
     "output_type": "stream",
     "text": [
      "| Column name     | Data type   |   Non-null count |   Unique values | Examples                                                                  |\n",
      "|:----------------|:------------|-----------------:|----------------:|:--------------------------------------------------------------------------|\n",
      "| Order_ID        | object      |            43739 |           43739 | ycky176183237, znaq525848611, rpge560994264, ihas367566779, jpou654965948 |\n",
      "| Agent_Age       | int64       |            43739 |              22 | 31, 38, 22, 21, 25                                                        |\n",
      "| Agent_Rating    | float64     |            43685 |              28 | 4.5, 4.3, 4.6, 4.7, 5.0                                                   |\n",
      "| Store_Latitude  | float64     |            43739 |             521 | 12.310972, 22.753839, 18.520016, 13.026286, 0.0                           |\n",
      "| Store_Longitude | float64     |            43739 |             415 | 76.659264, 75.897429, 73.830547, 80.275235, 0.0                           |\n",
      "| Drop_Latitude   | float64     |            43739 |            4367 | 12.380972, 22.783839, 18.530016, 13.076286, 0.13                          |\n",
      "| Drop_Longitude  | float64     |            43739 |            4367 | 76.729264, 75.927429, 73.840547, 80.325235, 0.13                          |\n",
      "| Order_Date      | object      |            43739 |              44 | 2022-03-23, 2022-03-30, 2022-03-28, 2022-04-03, 2022-03-02                |\n",
      "| Order_Time      | object      |            43739 |             177 | 22:10:00, 21:10:00, 09:20:00, 18:55:00, 19:50:00                          |\n",
      "| Pickup_Time     | object      |            43739 |             193 | 22:25:00, 21:20:00, 09:30:00, 19:00:00, 20:00:00                          |\n",
      "| Weather         | object      |            43648 |               6 | Sandstorms, Fog, Sunny, Fog, Stormy                                       |\n",
      "| Traffic         | object      |            43739 |               5 | Low , Jam , Low , Medium , Jam                                            |\n",
      "| Vehicle         | object      |            43739 |               4 | scooter , van, motorcycle , motorcycle , scooter                          |\n",
      "| Area            | object      |            43739 |               4 | Metropolitian , Metropolitian , Metropolitian , Urban , Urban             |\n",
      "| Delivery_Time   | int64       |            43739 |              89 | 85, 195, 80, 135, 135                                                     |\n",
      "| Category        | object      |            43739 |              16 | Jewelry, Clothing, Outdoors, Apparel, Sports                              |\n"
     ]
    }
   ],
   "source": [
    "# Create summary table\n",
    "summary_2_2 = pd.DataFrame({\"Column name\":amazon_df.columns, \"Data type\": amazon_df.dtypes, \"Non-null count\": amazon_df.notnull().sum(), \"Unique values\":amazon_df.nunique()})\n",
    "\n",
    "summary_2_2[\"Examples\"] = [\n",
    "    \", \".join(map(str, examples[col].tolist()))\n",
    "    for col in amazon_df.columns\n",
    "]\n",
    "\n",
    "summary_2_2 = summary_2_2.reset_index(drop=True)\n",
    "\n",
    "markdown_table2_2 = summary_2_2.to_markdown(index=False)\n",
    "\n",
    "#print(markdown_table2_2)\n",
    "print(markdown_table2_2)\n"
   ]
  },
  {
   "cell_type": "code",
   "execution_count": 121,
   "id": "c81b9b8e",
   "metadata": {},
   "outputs": [
    {
     "data": {
      "text/html": [
       "<div>\n",
       "<style scoped>\n",
       "    .dataframe tbody tr th:only-of-type {\n",
       "        vertical-align: middle;\n",
       "    }\n",
       "\n",
       "    .dataframe tbody tr th {\n",
       "        vertical-align: top;\n",
       "    }\n",
       "\n",
       "    .dataframe thead th {\n",
       "        text-align: right;\n",
       "    }\n",
       "</style>\n",
       "<table border=\"1\" class=\"dataframe\">\n",
       "  <thead>\n",
       "    <tr style=\"text-align: right;\">\n",
       "      <th></th>\n",
       "      <th>Agent_Age</th>\n",
       "      <th>Agent_Rating</th>\n",
       "      <th>Store_Latitude</th>\n",
       "      <th>Store_Longitude</th>\n",
       "      <th>Drop_Latitude</th>\n",
       "      <th>Drop_Longitude</th>\n",
       "      <th>Delivery_Time</th>\n",
       "    </tr>\n",
       "  </thead>\n",
       "  <tbody>\n",
       "    <tr>\n",
       "      <th>count</th>\n",
       "      <td>43739.000000</td>\n",
       "      <td>43685.000000</td>\n",
       "      <td>43739.000000</td>\n",
       "      <td>43739.000000</td>\n",
       "      <td>43739.000000</td>\n",
       "      <td>43739.000000</td>\n",
       "      <td>43739.000000</td>\n",
       "    </tr>\n",
       "    <tr>\n",
       "      <th>mean</th>\n",
       "      <td>29.567137</td>\n",
       "      <td>4.633780</td>\n",
       "      <td>17.210960</td>\n",
       "      <td>70.661177</td>\n",
       "      <td>17.459031</td>\n",
       "      <td>70.821842</td>\n",
       "      <td>124.905645</td>\n",
       "    </tr>\n",
       "    <tr>\n",
       "      <th>std</th>\n",
       "      <td>5.815155</td>\n",
       "      <td>0.334716</td>\n",
       "      <td>7.764225</td>\n",
       "      <td>21.475005</td>\n",
       "      <td>7.342950</td>\n",
       "      <td>21.153148</td>\n",
       "      <td>51.915451</td>\n",
       "    </tr>\n",
       "    <tr>\n",
       "      <th>min</th>\n",
       "      <td>15.000000</td>\n",
       "      <td>1.000000</td>\n",
       "      <td>-30.902872</td>\n",
       "      <td>-88.366217</td>\n",
       "      <td>0.010000</td>\n",
       "      <td>0.010000</td>\n",
       "      <td>10.000000</td>\n",
       "    </tr>\n",
       "    <tr>\n",
       "      <th>25%</th>\n",
       "      <td>25.000000</td>\n",
       "      <td>4.500000</td>\n",
       "      <td>12.933298</td>\n",
       "      <td>73.170283</td>\n",
       "      <td>12.985996</td>\n",
       "      <td>73.280000</td>\n",
       "      <td>90.000000</td>\n",
       "    </tr>\n",
       "    <tr>\n",
       "      <th>50%</th>\n",
       "      <td>30.000000</td>\n",
       "      <td>4.700000</td>\n",
       "      <td>18.551440</td>\n",
       "      <td>75.898497</td>\n",
       "      <td>18.633626</td>\n",
       "      <td>76.002574</td>\n",
       "      <td>125.000000</td>\n",
       "    </tr>\n",
       "    <tr>\n",
       "      <th>75%</th>\n",
       "      <td>35.000000</td>\n",
       "      <td>4.900000</td>\n",
       "      <td>22.732225</td>\n",
       "      <td>78.045359</td>\n",
       "      <td>22.785049</td>\n",
       "      <td>78.104095</td>\n",
       "      <td>160.000000</td>\n",
       "    </tr>\n",
       "    <tr>\n",
       "      <th>max</th>\n",
       "      <td>50.000000</td>\n",
       "      <td>6.000000</td>\n",
       "      <td>30.914057</td>\n",
       "      <td>88.433452</td>\n",
       "      <td>31.054057</td>\n",
       "      <td>88.563452</td>\n",
       "      <td>270.000000</td>\n",
       "    </tr>\n",
       "  </tbody>\n",
       "</table>\n",
       "</div>"
      ],
      "text/plain": [
       "          Agent_Age  Agent_Rating  Store_Latitude  Store_Longitude  \\\n",
       "count  43739.000000  43685.000000    43739.000000     43739.000000   \n",
       "mean      29.567137      4.633780       17.210960        70.661177   \n",
       "std        5.815155      0.334716        7.764225        21.475005   \n",
       "min       15.000000      1.000000      -30.902872       -88.366217   \n",
       "25%       25.000000      4.500000       12.933298        73.170283   \n",
       "50%       30.000000      4.700000       18.551440        75.898497   \n",
       "75%       35.000000      4.900000       22.732225        78.045359   \n",
       "max       50.000000      6.000000       30.914057        88.433452   \n",
       "\n",
       "       Drop_Latitude  Drop_Longitude  Delivery_Time  \n",
       "count   43739.000000    43739.000000   43739.000000  \n",
       "mean       17.459031       70.821842     124.905645  \n",
       "std         7.342950       21.153148      51.915451  \n",
       "min         0.010000        0.010000      10.000000  \n",
       "25%        12.985996       73.280000      90.000000  \n",
       "50%        18.633626       76.002574     125.000000  \n",
       "75%        22.785049       78.104095     160.000000  \n",
       "max        31.054057       88.563452     270.000000  "
      ]
     },
     "execution_count": 121,
     "metadata": {},
     "output_type": "execute_result"
    }
   ],
   "source": [
    "#getting some descriptive statistics \n",
    "amazon_df.describe()"
   ]
  },
  {
   "cell_type": "code",
   "execution_count": null,
   "id": "c9fa70ad",
   "metadata": {},
   "outputs": [
    {
     "name": "stdout",
     "output_type": "stream",
     "text": [
      "|       |   Agent_Age |   Agent_Rating |   Store_Latitude |   Store_Longitude |   Drop_Latitude |   Drop_Longitude |   Delivery_Time |\n",
      "|:------|------------:|---------------:|-----------------:|------------------:|----------------:|-----------------:|----------------:|\n",
      "| count | 43739       |   43685        |      43739       |        43739      |     43739       |       43739      |      43739      |\n",
      "| mean  |    29.5671  |       4.63378  |         17.211   |           70.6612 |        17.459   |          70.8218 |        124.906  |\n",
      "| std   |     5.81516 |       0.334716 |          7.76423 |           21.475  |         7.34295 |          21.1531 |         51.9155 |\n",
      "| min   |    15       |       1        |        -30.9029  |          -88.3662 |         0.01    |           0.01   |         10      |\n",
      "| 25%   |    25       |       4.5      |         12.9333  |           73.1703 |        12.986   |          73.28   |         90      |\n",
      "| 50%   |    30       |       4.7      |         18.5514  |           75.8985 |        18.6336  |          76.0026 |        125      |\n",
      "| 75%   |    35       |       4.9      |         22.7322  |           78.0454 |        22.785   |          78.1041 |        160      |\n",
      "| max   |    50       |       6        |         30.9141  |           88.4335 |        31.0541  |          88.5635 |        270      |\n"
     ]
    }
   ],
   "source": [
    "#converting to markdown format\n",
    "markdown_table2_3_1 = amazon_df.describe().to_markdown()\n",
    "# Print the markdown tables\n",
    "print(markdown_table2_3_1)"
   ]
  },
  {
   "cell_type": "code",
   "execution_count": 158,
   "id": "895e1fb2",
   "metadata": {},
   "outputs": [
    {
     "data": {
      "text/html": [
       "<div>\n",
       "<style scoped>\n",
       "    .dataframe tbody tr th:only-of-type {\n",
       "        vertical-align: middle;\n",
       "    }\n",
       "\n",
       "    .dataframe tbody tr th {\n",
       "        vertical-align: top;\n",
       "    }\n",
       "\n",
       "    .dataframe thead th {\n",
       "        text-align: right;\n",
       "    }\n",
       "</style>\n",
       "<table border=\"1\" class=\"dataframe\">\n",
       "  <thead>\n",
       "    <tr style=\"text-align: right;\">\n",
       "      <th></th>\n",
       "      <th>Order_ID</th>\n",
       "      <th>Order_Date</th>\n",
       "      <th>Order_Time</th>\n",
       "      <th>Pickup_Time</th>\n",
       "      <th>Weather</th>\n",
       "      <th>Traffic</th>\n",
       "      <th>Vehicle</th>\n",
       "      <th>Area</th>\n",
       "      <th>Category</th>\n",
       "    </tr>\n",
       "  </thead>\n",
       "  <tbody>\n",
       "    <tr>\n",
       "      <th>Count</th>\n",
       "      <td>43739</td>\n",
       "      <td>43739</td>\n",
       "      <td>43739</td>\n",
       "      <td>43739</td>\n",
       "      <td>43648</td>\n",
       "      <td>43739</td>\n",
       "      <td>43739</td>\n",
       "      <td>43739</td>\n",
       "      <td>43739</td>\n",
       "    </tr>\n",
       "    <tr>\n",
       "      <th>Number of unique values</th>\n",
       "      <td>43739</td>\n",
       "      <td>44</td>\n",
       "      <td>177</td>\n",
       "      <td>193</td>\n",
       "      <td>6</td>\n",
       "      <td>5</td>\n",
       "      <td>4</td>\n",
       "      <td>4</td>\n",
       "      <td>16</td>\n",
       "    </tr>\n",
       "    <tr>\n",
       "      <th>Most frequent value</th>\n",
       "      <td>ialx566343618</td>\n",
       "      <td>2022-03-15</td>\n",
       "      <td>21:55:00</td>\n",
       "      <td>21:30:00</td>\n",
       "      <td>Fog</td>\n",
       "      <td>Low</td>\n",
       "      <td>motorcycle</td>\n",
       "      <td>Metropolitian</td>\n",
       "      <td>Electronics</td>\n",
       "    </tr>\n",
       "    <tr>\n",
       "      <th>Most frequent value (frequency)</th>\n",
       "      <td>1</td>\n",
       "      <td>1141</td>\n",
       "      <td>460</td>\n",
       "      <td>481</td>\n",
       "      <td>7440</td>\n",
       "      <td>14999</td>\n",
       "      <td>25527</td>\n",
       "      <td>32698</td>\n",
       "      <td>2849</td>\n",
       "    </tr>\n",
       "    <tr>\n",
       "      <th>Least frequent value</th>\n",
       "      <td>ialx566343618</td>\n",
       "      <td>2022-02-18</td>\n",
       "      <td>16:30:00</td>\n",
       "      <td>16:20:00</td>\n",
       "      <td>Sunny</td>\n",
       "      <td>NaN</td>\n",
       "      <td>bicycle</td>\n",
       "      <td>Semi-Urban</td>\n",
       "      <td>Shoes</td>\n",
       "    </tr>\n",
       "    <tr>\n",
       "      <th>Least frequent value (frequency)</th>\n",
       "      <td>1</td>\n",
       "      <td>819</td>\n",
       "      <td>51</td>\n",
       "      <td>36</td>\n",
       "      <td>7078</td>\n",
       "      <td>91</td>\n",
       "      <td>15</td>\n",
       "      <td>152</td>\n",
       "      <td>2666</td>\n",
       "    </tr>\n",
       "  </tbody>\n",
       "</table>\n",
       "</div>"
      ],
      "text/plain": [
       "                                       Order_ID  Order_Date Order_Time  \\\n",
       "Count                                     43739       43739      43739   \n",
       "Number of unique values                   43739          44        177   \n",
       "Most frequent value               ialx566343618  2022-03-15   21:55:00   \n",
       "Most frequent value (frequency)               1        1141        460   \n",
       "Least frequent value              ialx566343618  2022-02-18   16:30:00   \n",
       "Least frequent value (frequency)              1         819         51   \n",
       "\n",
       "                                 Pickup_Time Weather Traffic      Vehicle  \\\n",
       "Count                                  43739   43648   43739        43739   \n",
       "Number of unique values                  193       6       5            4   \n",
       "Most frequent value                 21:30:00     Fog    Low   motorcycle    \n",
       "Most frequent value (frequency)          481    7440   14999        25527   \n",
       "Least frequent value                16:20:00   Sunny    NaN      bicycle    \n",
       "Least frequent value (frequency)          36    7078      91           15   \n",
       "\n",
       "                                            Area     Category  \n",
       "Count                                      43739        43739  \n",
       "Number of unique values                        4           16  \n",
       "Most frequent value               Metropolitian   Electronics  \n",
       "Most frequent value (frequency)            32698         2849  \n",
       "Least frequent value                 Semi-Urban         Shoes  \n",
       "Least frequent value (frequency)             152         2666  "
      ]
     },
     "execution_count": 158,
     "metadata": {},
     "output_type": "execute_result"
    }
   ],
   "source": [
    "#getting basic descriptive statistics for categorical columns\n",
    "cat_desc = amazon_df.describe(include=\"object\")\n",
    "\n",
    "# Rename the existing rows\n",
    "cat_desc.rename(index={\n",
    "    \"count\": \"Count\",\n",
    "    \"unique\": \"Number of unique values\",\n",
    "    \"top\": \"Most frequent value\",\n",
    "    \"freq\": \"Most frequent value (frequency)\"\n",
    "}, inplace=True)\n",
    "\n",
    "# Add least frequent value and its frequency\n",
    "cat_desc.loc[\"Least frequent value\"] = amazon_df.apply(lambda x: x.value_counts().idxmin())\n",
    "cat_desc.loc[\"Least frequent value (frequency)\"] = amazon_df.apply(lambda x: x.value_counts().min())\n",
    "\n",
    "# Display the result\n",
    "cat_desc"
   ]
  },
  {
   "cell_type": "code",
   "execution_count": null,
   "id": "171c967d",
   "metadata": {},
   "outputs": [
    {
     "name": "stdout",
     "output_type": "stream",
     "text": [
      "|                                  | Order_ID      | Order_Date   | Order_Time   | Pickup_Time   | Weather   | Traffic   | Vehicle    | Area          | Category    |\n",
      "|:---------------------------------|:--------------|:-------------|:-------------|:--------------|:----------|:----------|:-----------|:--------------|:------------|\n",
      "| Count                            | 43739         | 43739        | 43739        | 43739         | 43648     | 43739     | 43739      | 43739         | 43739       |\n",
      "| Number of unique values          | 43739         | 44           | 177          | 193           | 6         | 5         | 4          | 4             | 16          |\n",
      "| Most frequent value              | ialx566343618 | 2022-03-15   | 21:55:00     | 21:30:00      | Fog       | Low       | motorcycle | Metropolitian | Electronics |\n",
      "| Most frequent value (frequency)  | 1             | 1141         | 460          | 481           | 7440      | 14999     | 25527      | 32698         | 2849        |\n",
      "| Least frequent value             | ialx566343618 | 2022-02-18   | 16:30:00     | 16:20:00      | Sunny     | NaN       | bicycle    | Semi-Urban    | Shoes       |\n",
      "| Least frequent value (frequency) | 1             | 819          | 51           | 36            | 7078      | 91        | 15         | 152           | 2666        |\n"
     ]
    }
   ],
   "source": [
    "#converting to markdown format\n",
    "markdown_table2_3_2 = cat_desc.to_markdown()\n",
    "\n",
    "# Print the markdown tables\n",
    "print(markdown_table2_3_2)"
   ]
  },
  {
   "cell_type": "code",
   "execution_count": 165,
   "id": "3225aa7d",
   "metadata": {},
   "outputs": [
    {
     "name": "stdout",
     "output_type": "stream",
     "text": [
      "                     Column name  Missing count  % Missing\n",
      "Order_ID                Order_ID              0   0.000000\n",
      "Agent_Age              Agent_Age              0   0.000000\n",
      "Agent_Rating        Agent_Rating             54   0.123460\n",
      "Store_Latitude    Store_Latitude              0   0.000000\n",
      "Store_Longitude  Store_Longitude              0   0.000000\n",
      "Drop_Latitude      Drop_Latitude              0   0.000000\n",
      "Drop_Longitude    Drop_Longitude              0   0.000000\n",
      "Order_Date            Order_Date              0   0.000000\n",
      "Order_Time            Order_Time              0   0.000000\n",
      "Pickup_Time          Pickup_Time              0   0.000000\n",
      "Weather                  Weather             91   0.208052\n",
      "Traffic                  Traffic              0   0.000000\n",
      "Vehicle                  Vehicle              0   0.000000\n",
      "Area                        Area              0   0.000000\n",
      "Delivery_Time      Delivery_Time              0   0.000000\n",
      "Category                Category              0   0.000000\n",
      "\n",
      "**Total missing values:** 145\n",
      "**Percentage of dataset affected:** 0.02%\n",
      "**Duplicated rows found:** 0\n",
      "**Percentage of rows in dataset affected:** 0.00%\n"
     ]
    }
   ],
   "source": [
    "# Missing values per column\n",
    "missing_count = amazon_df.isnull().sum()\n",
    "missing_percent = (missing_count / len(amazon_df)) * 100\n",
    "\n",
    "# Duplicated rows\n",
    "duplicated_count = amazon_df.duplicated().sum()\n",
    "duplicated_percent = (duplicated_count / len(amazon_df)) * 100\n",
    "\n",
    "# Create summary DataFrame for Markdown\n",
    "missing_amazon_df = pd.DataFrame({\n",
    "    \"Column name\": amazon_df.columns,\n",
    "    \"Missing count\": missing_count,\n",
    "    \"% Missing\": missing_percent\n",
    "})\n",
    "\n",
    "# Print table\n",
    "print(missing_amazon_df)\n",
    "\n",
    "# Print summary\n",
    "print(f\"\\n**Total missing values:** {missing_count.sum()}\")\n",
    "print(f\"**Percentage of dataset affected:** {(missing_count.sum() / (len(amazon_df)*len(amazon_df.columns)) * 100):.2f}%\")\n",
    "print(f\"**Duplicated rows found:** {duplicated_count}\")\n",
    "print(f\"**Percentage of rows in dataset affected:** {duplicated_percent:.2f}%\")"
   ]
  },
  {
   "cell_type": "code",
   "execution_count": 167,
   "id": "f273be8d",
   "metadata": {},
   "outputs": [
    {
     "name": "stdout",
     "output_type": "stream",
     "text": [
      "| Column name     |   Missing count |   % Missing |\n",
      "|:----------------|----------------:|------------:|\n",
      "| Order_ID        |               0 |    0        |\n",
      "| Agent_Age       |               0 |    0        |\n",
      "| Agent_Rating    |              54 |    0.12346  |\n",
      "| Store_Latitude  |               0 |    0        |\n",
      "| Store_Longitude |               0 |    0        |\n",
      "| Drop_Latitude   |               0 |    0        |\n",
      "| Drop_Longitude  |               0 |    0        |\n",
      "| Order_Date      |               0 |    0        |\n",
      "| Order_Time      |               0 |    0        |\n",
      "| Pickup_Time     |               0 |    0        |\n",
      "| Weather         |              91 |    0.208052 |\n",
      "| Traffic         |               0 |    0        |\n",
      "| Vehicle         |               0 |    0        |\n",
      "| Area            |               0 |    0        |\n",
      "| Delivery_Time   |               0 |    0        |\n",
      "| Category        |               0 |    0        |\n",
      "\n",
      "**Total missing values:** 145\n",
      "**Percentage of dataset affected:** 0.02%\n",
      "**Duplicated rows found:** 0\n",
      "**Percentage of rows in dataset affected:** 0.00%\n"
     ]
    }
   ],
   "source": [
    "#Convert to markdown format\n",
    "print(missing_amazon_df.to_markdown(index=False))\n",
    "# Print summary\n",
    "print(f\"\\n**Total missing values:** {missing_count.sum()}\")\n",
    "print(f\"**Percentage of dataset affected:** {(missing_count.sum() / (len(amazon_df)*len(amazon_df.columns)) * 100):.2f}%\")\n",
    "print(f\"**Duplicated rows found:** {duplicated_count}\")\n",
    "print(f\"**Percentage of rows in dataset affected:** {duplicated_percent:.2f}%\")"
   ]
  }
 ],
 "metadata": {
  "kernelspec": {
   "display_name": "ASDA",
   "language": "python",
   "name": "python3"
  },
  "language_info": {
   "codemirror_mode": {
    "name": "ipython",
    "version": 3
   },
   "file_extension": ".py",
   "mimetype": "text/x-python",
   "name": "python",
   "nbconvert_exporter": "python",
   "pygments_lexer": "ipython3",
   "version": "3.10.18"
  }
 },
 "nbformat": 4,
 "nbformat_minor": 5
}
