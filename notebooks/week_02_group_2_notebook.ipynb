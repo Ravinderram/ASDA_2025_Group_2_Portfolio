{
 "cells": [
  {
   "cell_type": "code",
   "execution_count": 2,
   "id": "b9e3d02b",
   "metadata": {},
   "outputs": [
    {
     "name": "stdout",
     "output_type": "stream",
     "text": [
      "Warning: Looks like you're using an outdated `kagglehub` version, please consider updating (latest version: 0.3.13)\n"
     ]
    }
   ],
   "source": [
    "# Basic EDA of two datasets\n",
    "# Dataset 1: California Housing Prices\n",
    "\n",
    "import kagglehub\n",
    "import pandas as pd\n",
    "\n",
    "# 1. Dataset overview\n",
    "# Download latest version\n",
    "path = kagglehub.dataset_download(\"camnugent/california-housing-prices\")\n"
   ]
  },
  {
   "cell_type": "code",
   "execution_count": 12,
   "id": "70f96d58",
   "metadata": {},
   "outputs": [],
   "source": [
    "# Name dataset\n",
    "housing_df = pd.read_csv(f\"{path}/housing.csv\")"
   ]
  },
  {
   "cell_type": "code",
   "execution_count": 13,
   "id": "8de37fae",
   "metadata": {},
   "outputs": [
    {
     "data": {
      "text/plain": [
       "(20640, 10)"
      ]
     },
     "execution_count": 13,
     "metadata": {},
     "output_type": "execute_result"
    }
   ],
   "source": [
    "# Get rows and columns of dataset\n",
    "housing_df.shape"
   ]
  },
  {
   "cell_type": "code",
   "execution_count": null,
   "id": "d9c5cfd1",
   "metadata": {},
   "outputs": [
    {
     "name": "stdout",
     "output_type": "stream",
     "text": [
      "Warning: Looks like you're using an outdated `kagglehub` version, please consider updating (latest version: 0.3.13)\n",
      "Downloading from https://www.kaggle.com/api/v1/datasets/download/sujalsuthar/amazon-delivery-dataset?dataset_version_number=1...\n"
     ]
    },
    {
     "name": "stderr",
     "output_type": "stream",
     "text": [
      "100%|██████████| 1.53M/1.53M [00:00<00:00, 2.69MB/s]"
     ]
    },
    {
     "name": "stdout",
     "output_type": "stream",
     "text": [
      "Extracting model files...\n",
      "Path to dataset files: /Users/megankelly/.cache/kagglehub/datasets/sujalsuthar/amazon-delivery-dataset/versions/1\n"
     ]
    },
    {
     "name": "stderr",
     "output_type": "stream",
     "text": [
      "\n"
     ]
    }
   ],
   "source": [
    "#Dataset 2: structure of the data\n",
    "\n",
    "# Download latest version\n",
    "path_amazon = kagglehub.dataset_download(\"sujalsuthar/amazon-delivery-dataset\")\n",
    "\n",
    "print(\"Path to dataset files:\", path_amazon)"
   ]
  },
  {
   "cell_type": "code",
   "execution_count": 6,
   "id": "1b7ec13f",
   "metadata": {},
   "outputs": [],
   "source": [
    "# Name dataset\n",
    "amazon_df = pd.read_csv(f\"{path_amazon}/amazon_delivery.csv\")"
   ]
  },
  {
   "cell_type": "code",
   "execution_count": 17,
   "id": "06456891",
   "metadata": {},
   "outputs": [
    {
     "data": {
      "text/plain": [
       "Index(['Order_ID', 'Agent_Age', 'Agent_Rating', 'Store_Latitude',\n",
       "       'Store_Longitude', 'Drop_Latitude', 'Drop_Longitude', 'Order_Date',\n",
       "       'Order_Time', 'Pickup_Time', 'Weather', 'Traffic', 'Vehicle', 'Area',\n",
       "       'Delivery_Time', 'Category'],\n",
       "      dtype='object')"
      ]
     },
     "execution_count": 17,
     "metadata": {},
     "output_type": "execute_result"
    }
   ],
   "source": [
    "# Get column names\n",
    "amazon_df.columns\n"
   ]
  },
  {
   "cell_type": "code",
   "execution_count": null,
   "id": "ed5d97b1",
   "metadata": {},
   "outputs": [
    {
     "data": {
      "text/plain": [
       "Order_ID            object\n",
       "Agent_Age            int64\n",
       "Agent_Rating       float64\n",
       "Store_Latitude     float64\n",
       "Store_Longitude    float64\n",
       "Drop_Latitude      float64\n",
       "Drop_Longitude     float64\n",
       "Order_Date          object\n",
       "Order_Time          object\n",
       "Pickup_Time         object\n",
       "Weather             object\n",
       "Traffic             object\n",
       "Vehicle             object\n",
       "Area                object\n",
       "Delivery_Time        int64\n",
       "Category            object\n",
       "dtype: object"
      ]
     },
     "execution_count": 9,
     "metadata": {},
     "output_type": "execute_result"
    }
   ],
   "source": [
    "# Get column types\n",
    "amazon_df.dtypes"
   ]
  },
  {
   "cell_type": "code",
   "execution_count": 23,
   "id": "f1eb0cec",
   "metadata": {},
   "outputs": [
    {
     "data": {
      "text/plain": [
       "Order_ID           43739\n",
       "Agent_Age          43739\n",
       "Agent_Rating       43685\n",
       "Store_Latitude     43739\n",
       "Store_Longitude    43739\n",
       "Drop_Latitude      43739\n",
       "Drop_Longitude     43739\n",
       "Order_Date         43739\n",
       "Order_Time         43739\n",
       "Pickup_Time        43739\n",
       "Weather            43648\n",
       "Traffic            43739\n",
       "Vehicle            43739\n",
       "Area               43739\n",
       "Delivery_Time      43739\n",
       "Category           43739\n",
       "dtype: int64"
      ]
     },
     "execution_count": 23,
     "metadata": {},
     "output_type": "execute_result"
    }
   ],
   "source": [
    "# Get non-null counts\n",
    "amazon_df.notnull().sum()"
   ]
  },
  {
   "cell_type": "code",
   "execution_count": null,
   "id": "288d0222",
   "metadata": {},
   "outputs": [
    {
     "data": {
      "text/plain": [
       "Order_ID           43739\n",
       "Agent_Age             22\n",
       "Agent_Rating          28\n",
       "Store_Latitude       521\n",
       "Store_Longitude      415\n",
       "Drop_Latitude       4367\n",
       "Drop_Longitude      4367\n",
       "Order_Date            44\n",
       "Order_Time           177\n",
       "Pickup_Time          193\n",
       "Weather                6\n",
       "Traffic                5\n",
       "Vehicle                4\n",
       "Area                   4\n",
       "Delivery_Time         89\n",
       "Category              16\n",
       "dtype: int64"
      ]
     },
     "execution_count": 13,
     "metadata": {},
     "output_type": "execute_result"
    }
   ],
   "source": [
    "# Get number of unique values in each column\n",
    "amazon_df.nunique()"
   ]
  },
  {
   "cell_type": "code",
   "execution_count": null,
   "id": "f3325824",
   "metadata": {},
   "outputs": [
    {
     "data": {
      "text/html": [
       "<div>\n",
       "<style scoped>\n",
       "    .dataframe tbody tr th:only-of-type {\n",
       "        vertical-align: middle;\n",
       "    }\n",
       "\n",
       "    .dataframe tbody tr th {\n",
       "        vertical-align: top;\n",
       "    }\n",
       "\n",
       "    .dataframe thead th {\n",
       "        text-align: right;\n",
       "    }\n",
       "</style>\n",
       "<table border=\"1\" class=\"dataframe\">\n",
       "  <thead>\n",
       "    <tr style=\"text-align: right;\">\n",
       "      <th></th>\n",
       "      <th>Order_ID</th>\n",
       "      <th>Agent_Age</th>\n",
       "      <th>Agent_Rating</th>\n",
       "      <th>Store_Latitude</th>\n",
       "      <th>Store_Longitude</th>\n",
       "      <th>Drop_Latitude</th>\n",
       "      <th>Drop_Longitude</th>\n",
       "      <th>Order_Date</th>\n",
       "      <th>Order_Time</th>\n",
       "      <th>Pickup_Time</th>\n",
       "      <th>Weather</th>\n",
       "      <th>Traffic</th>\n",
       "      <th>Vehicle</th>\n",
       "      <th>Area</th>\n",
       "      <th>Delivery_Time</th>\n",
       "      <th>Category</th>\n",
       "    </tr>\n",
       "  </thead>\n",
       "  <tbody>\n",
       "    <tr>\n",
       "      <th>30858</th>\n",
       "      <td>ysql652484304</td>\n",
       "      <td>35</td>\n",
       "      <td>4.6</td>\n",
       "      <td>12.310972</td>\n",
       "      <td>76.659264</td>\n",
       "      <td>12.380972</td>\n",
       "      <td>76.729264</td>\n",
       "      <td>2022-04-02</td>\n",
       "      <td>20:40:00</td>\n",
       "      <td>20:45:00</td>\n",
       "      <td>Sandstorms</td>\n",
       "      <td>Jam</td>\n",
       "      <td>motorcycle</td>\n",
       "      <td>Metropolitian</td>\n",
       "      <td>53</td>\n",
       "      <td>Grocery</td>\n",
       "    </tr>\n",
       "    <tr>\n",
       "      <th>20086</th>\n",
       "      <td>omei605786978</td>\n",
       "      <td>29</td>\n",
       "      <td>4.6</td>\n",
       "      <td>12.304569</td>\n",
       "      <td>76.643622</td>\n",
       "      <td>12.314569</td>\n",
       "      <td>76.653622</td>\n",
       "      <td>2022-03-11</td>\n",
       "      <td>08:10:00</td>\n",
       "      <td>08:25:00</td>\n",
       "      <td>Fog</td>\n",
       "      <td>Low</td>\n",
       "      <td>scooter</td>\n",
       "      <td>Urban</td>\n",
       "      <td>85</td>\n",
       "      <td>Skincare</td>\n",
       "    </tr>\n",
       "    <tr>\n",
       "      <th>649</th>\n",
       "      <td>xxor408538921</td>\n",
       "      <td>27</td>\n",
       "      <td>4.7</td>\n",
       "      <td>23.374878</td>\n",
       "      <td>85.335739</td>\n",
       "      <td>23.394878</td>\n",
       "      <td>85.355739</td>\n",
       "      <td>2022-03-03</td>\n",
       "      <td>08:20:00</td>\n",
       "      <td>08:30:00</td>\n",
       "      <td>Sandstorms</td>\n",
       "      <td>Low</td>\n",
       "      <td>scooter</td>\n",
       "      <td>Metropolitian</td>\n",
       "      <td>55</td>\n",
       "      <td>Sports</td>\n",
       "    </tr>\n",
       "    <tr>\n",
       "      <th>35425</th>\n",
       "      <td>digx266253552</td>\n",
       "      <td>23</td>\n",
       "      <td>4.0</td>\n",
       "      <td>18.592718</td>\n",
       "      <td>73.773572</td>\n",
       "      <td>18.612718</td>\n",
       "      <td>73.793572</td>\n",
       "      <td>2022-03-13</td>\n",
       "      <td>11:55:00</td>\n",
       "      <td>12:10:00</td>\n",
       "      <td>Fog</td>\n",
       "      <td>High</td>\n",
       "      <td>scooter</td>\n",
       "      <td>Metropolitian</td>\n",
       "      <td>160</td>\n",
       "      <td>Shoes</td>\n",
       "    </tr>\n",
       "    <tr>\n",
       "      <th>43033</th>\n",
       "      <td>nlsl993697678</td>\n",
       "      <td>30</td>\n",
       "      <td>4.3</td>\n",
       "      <td>22.311358</td>\n",
       "      <td>73.164798</td>\n",
       "      <td>22.361358</td>\n",
       "      <td>73.214798</td>\n",
       "      <td>2022-03-24</td>\n",
       "      <td>20:30:00</td>\n",
       "      <td>20:45:00</td>\n",
       "      <td>Windy</td>\n",
       "      <td>Jam</td>\n",
       "      <td>motorcycle</td>\n",
       "      <td>Metropolitian</td>\n",
       "      <td>180</td>\n",
       "      <td>Books</td>\n",
       "    </tr>\n",
       "  </tbody>\n",
       "</table>\n",
       "</div>"
      ],
      "text/plain": [
       "            Order_ID  Agent_Age  Agent_Rating  Store_Latitude  \\\n",
       "30858  ysql652484304         35           4.6       12.310972   \n",
       "20086  omei605786978         29           4.6       12.304569   \n",
       "649    xxor408538921         27           4.7       23.374878   \n",
       "35425  digx266253552         23           4.0       18.592718   \n",
       "43033  nlsl993697678         30           4.3       22.311358   \n",
       "\n",
       "       Store_Longitude  Drop_Latitude  Drop_Longitude  Order_Date Order_Time  \\\n",
       "30858        76.659264      12.380972       76.729264  2022-04-02   20:40:00   \n",
       "20086        76.643622      12.314569       76.653622  2022-03-11   08:10:00   \n",
       "649          85.335739      23.394878       85.355739  2022-03-03   08:20:00   \n",
       "35425        73.773572      18.612718       73.793572  2022-03-13   11:55:00   \n",
       "43033        73.164798      22.361358       73.214798  2022-03-24   20:30:00   \n",
       "\n",
       "      Pickup_Time     Weather Traffic      Vehicle            Area  \\\n",
       "30858    20:45:00  Sandstorms    Jam   motorcycle   Metropolitian    \n",
       "20086    08:25:00         Fog    Low      scooter           Urban    \n",
       "649      08:30:00  Sandstorms    Low      scooter   Metropolitian    \n",
       "35425    12:10:00         Fog   High      scooter   Metropolitian    \n",
       "43033    20:45:00       Windy    Jam   motorcycle   Metropolitian    \n",
       "\n",
       "       Delivery_Time  Category  \n",
       "30858             53   Grocery  \n",
       "20086             85  Skincare  \n",
       "649               55    Sports  \n",
       "35425            160     Shoes  \n",
       "43033            180     Books  "
      ]
     },
     "execution_count": 26,
     "metadata": {},
     "output_type": "execute_result"
    }
   ],
   "source": [
    "# Get random sample of 5 rows to see example values\n",
    "examples = amazon_df.sample(5)\n",
    "examples"
   ]
  },
  {
   "cell_type": "code",
   "execution_count": 34,
   "id": "d17cf1ce",
   "metadata": {},
   "outputs": [
    {
     "name": "stdout",
     "output_type": "stream",
     "text": [
      "| Column name     | Data type   |   Non-null count |   Unique values | Examples                                                                  |\n",
      "|:----------------|:------------|-----------------:|----------------:|:--------------------------------------------------------------------------|\n",
      "| Order_ID        | object      |            43739 |           43739 | ysql652484304, omei605786978, xxor408538921, digx266253552, nlsl993697678 |\n",
      "| Agent_Age       | int64       |            43739 |              22 | 35, 29, 27, 23, 30                                                        |\n",
      "| Agent_Rating    | float64     |            43685 |              28 | 4.6, 4.6, 4.7, 4.0, 4.3                                                   |\n",
      "| Store_Latitude  | float64     |            43739 |             521 | 12.310972, 12.304569, 23.374878, 18.592718, 22.311358                     |\n",
      "| Store_Longitude | float64     |            43739 |             415 | 76.659264, 76.643622, 85.335739, 73.773572, 73.164798                     |\n",
      "| Drop_Latitude   | float64     |            43739 |            4367 | 12.380972, 12.314569, 23.394878, 18.612718, 22.361358                     |\n",
      "| Drop_Longitude  | float64     |            43739 |            4367 | 76.729264, 76.653622, 85.355739, 73.793572, 73.214798                     |\n",
      "| Order_Date      | object      |            43739 |              44 | 2022-04-02, 2022-03-11, 2022-03-03, 2022-03-13, 2022-03-24                |\n",
      "| Order_Time      | object      |            43739 |             177 | 20:40:00, 08:10:00, 08:20:00, 11:55:00, 20:30:00                          |\n",
      "| Pickup_Time     | object      |            43739 |             193 | 20:45:00, 08:25:00, 08:30:00, 12:10:00, 20:45:00                          |\n",
      "| Weather         | object      |            43648 |               6 | Sandstorms, Fog, Sandstorms, Fog, Windy                                   |\n",
      "| Traffic         | object      |            43739 |               5 | Jam , Low , Low , High , Jam                                              |\n",
      "| Vehicle         | object      |            43739 |               4 | motorcycle , scooter , scooter , scooter , motorcycle                     |\n",
      "| Area            | object      |            43739 |               4 | Metropolitian , Urban , Metropolitian , Metropolitian , Metropolitian     |\n",
      "| Delivery_Time   | int64       |            43739 |              89 | 53, 85, 55, 160, 180                                                      |\n",
      "| Category        | object      |            43739 |              16 | Grocery, Skincare, Sports, Shoes, Books                                   |\n"
     ]
    }
   ],
   "source": [
    "# Create summary table\n",
    "summary_2 = pd.DataFrame({\"Column name\":amazon_df.columns, \"Data type\": amazon_df.dtypes, \"Non-null count\": amazon_df.notnull().sum(), \"Unique values\":amazon_df.nunique()})\n",
    "\n",
    "summary_2[\"Examples\"] = [\n",
    "    \", \".join(map(str, examples[col].tolist()))\n",
    "    for col in amazon_df.columns\n",
    "]\n",
    "\n",
    "summary_2 = summary_2.reset_index(drop=True)\n",
    "\n",
    "markdown_table = summary_2.to_markdown(index=False)\n",
    "print(markdown_table)"
   ]
  }
 ],
 "metadata": {
  "kernelspec": {
   "display_name": "base",
   "language": "python",
   "name": "python3"
  },
  "language_info": {
   "codemirror_mode": {
    "name": "ipython",
    "version": 3
   },
   "file_extension": ".py",
   "mimetype": "text/x-python",
   "name": "python",
   "nbconvert_exporter": "python",
   "pygments_lexer": "ipython3",
   "version": "3.13.9"
  }
 },
 "nbformat": 4,
 "nbformat_minor": 5
}
