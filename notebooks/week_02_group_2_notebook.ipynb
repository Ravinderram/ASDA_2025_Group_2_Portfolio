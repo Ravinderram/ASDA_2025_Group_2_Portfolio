{
 "cells": [
  {
   "cell_type": "code",
   "execution_count": 77,
   "id": "b9e3d02b",
   "metadata": {},
   "outputs": [
    {
     "name": "stdout",
     "output_type": "stream",
     "text": [
      "Path to dataset files: C:\\Users\\sassa\\.cache\\kagglehub\\datasets\\camnugent\\california-housing-prices\\versions\\1\n"
     ]
    }
   ],
   "source": [
    "# Basic EDA of two datasets\n",
    "# Dataset 1: California Housing Prices\n",
    "\n",
    "import kagglehub\n",
    "import pandas as pd\n",
    "\n",
    "# 1. Dataset overview\n",
    "# Download latest version\n",
    "path = kagglehub.dataset_download(\"camnugent/california-housing-prices\")\n",
    "\n",
    "print(\"Path to dataset files:\", path)\n"
   ]
  },
  {
   "cell_type": "code",
   "execution_count": 78,
   "id": "70f96d58",
   "metadata": {},
   "outputs": [],
   "source": [
    "# Name dataset\n",
    "housing_df = pd.read_csv(f\"{path}/housing.csv\")"
   ]
  },
  {
   "cell_type": "code",
   "execution_count": 79,
   "id": "8de37fae",
   "metadata": {},
   "outputs": [
    {
     "data": {
      "text/plain": [
       "(20640, 10)"
      ]
     },
     "execution_count": 79,
     "metadata": {},
     "output_type": "execute_result"
    }
   ],
   "source": [
    "# Get rows and columns of dataset\n",
    "housing_df.shape"
   ]
  },
  {
   "cell_type": "code",
   "execution_count": 80,
   "id": "a57e4ca2",
   "metadata": {},
   "outputs": [
    {
     "data": {
      "text/plain": [
       "Index(['longitude', 'latitude', 'housing_median_age', 'total_rooms',\n",
       "       'total_bedrooms', 'population', 'households', 'median_income',\n",
       "       'median_house_value', 'ocean_proximity'],\n",
       "      dtype='object')"
      ]
     },
     "execution_count": 80,
     "metadata": {},
     "output_type": "execute_result"
    }
   ],
   "source": [
    "# Get column names\n",
    "housing_df.columns\n"
   ]
  },
  {
   "cell_type": "code",
   "execution_count": 81,
   "id": "8365943e",
   "metadata": {},
   "outputs": [
    {
     "data": {
      "text/plain": [
       "longitude             float64\n",
       "latitude              float64\n",
       "housing_median_age    float64\n",
       "total_rooms           float64\n",
       "total_bedrooms        float64\n",
       "population            float64\n",
       "households            float64\n",
       "median_income         float64\n",
       "median_house_value    float64\n",
       "ocean_proximity        object\n",
       "dtype: object"
      ]
     },
     "execution_count": 81,
     "metadata": {},
     "output_type": "execute_result"
    }
   ],
   "source": [
    "# Get column types\n",
    "housing_df.dtypes"
   ]
  },
  {
   "cell_type": "code",
   "execution_count": 82,
   "id": "aae76047",
   "metadata": {},
   "outputs": [
    {
     "data": {
      "text/plain": [
       "longitude             20640\n",
       "latitude              20640\n",
       "housing_median_age    20640\n",
       "total_rooms           20640\n",
       "total_bedrooms        20433\n",
       "population            20640\n",
       "households            20640\n",
       "median_income         20640\n",
       "median_house_value    20640\n",
       "ocean_proximity       20640\n",
       "dtype: int64"
      ]
     },
     "execution_count": 82,
     "metadata": {},
     "output_type": "execute_result"
    }
   ],
   "source": [
    "# Get non-null counts\n",
    "housing_df.notnull().sum()"
   ]
  },
  {
   "cell_type": "code",
   "execution_count": 83,
   "id": "6a20b233",
   "metadata": {},
   "outputs": [
    {
     "data": {
      "text/plain": [
       "longitude               844\n",
       "latitude                862\n",
       "housing_median_age       52\n",
       "total_rooms            5926\n",
       "total_bedrooms         1923\n",
       "population             3888\n",
       "households             1815\n",
       "median_income         12928\n",
       "median_house_value     3842\n",
       "ocean_proximity           5\n",
       "dtype: int64"
      ]
     },
     "execution_count": 83,
     "metadata": {},
     "output_type": "execute_result"
    }
   ],
   "source": [
    "# Get number of unique values in each column\n",
    "housing_df.nunique()"
   ]
  },
  {
   "cell_type": "code",
   "execution_count": 84,
   "id": "7f4083b4",
   "metadata": {},
   "outputs": [
    {
     "data": {
      "text/html": [
       "<div>\n",
       "<style scoped>\n",
       "    .dataframe tbody tr th:only-of-type {\n",
       "        vertical-align: middle;\n",
       "    }\n",
       "\n",
       "    .dataframe tbody tr th {\n",
       "        vertical-align: top;\n",
       "    }\n",
       "\n",
       "    .dataframe thead th {\n",
       "        text-align: right;\n",
       "    }\n",
       "</style>\n",
       "<table border=\"1\" class=\"dataframe\">\n",
       "  <thead>\n",
       "    <tr style=\"text-align: right;\">\n",
       "      <th></th>\n",
       "      <th>longitude</th>\n",
       "      <th>latitude</th>\n",
       "      <th>housing_median_age</th>\n",
       "      <th>total_rooms</th>\n",
       "      <th>total_bedrooms</th>\n",
       "      <th>population</th>\n",
       "      <th>households</th>\n",
       "      <th>median_income</th>\n",
       "      <th>median_house_value</th>\n",
       "      <th>ocean_proximity</th>\n",
       "    </tr>\n",
       "  </thead>\n",
       "  <tbody>\n",
       "    <tr>\n",
       "      <th>14033</th>\n",
       "      <td>-117.14</td>\n",
       "      <td>32.75</td>\n",
       "      <td>35.0</td>\n",
       "      <td>1391.0</td>\n",
       "      <td>329.0</td>\n",
       "      <td>726.0</td>\n",
       "      <td>317.0</td>\n",
       "      <td>2.6818</td>\n",
       "      <td>159400.0</td>\n",
       "      <td>NEAR OCEAN</td>\n",
       "    </tr>\n",
       "    <tr>\n",
       "      <th>10133</th>\n",
       "      <td>-117.91</td>\n",
       "      <td>33.91</td>\n",
       "      <td>34.0</td>\n",
       "      <td>1763.0</td>\n",
       "      <td>303.0</td>\n",
       "      <td>894.0</td>\n",
       "      <td>297.0</td>\n",
       "      <td>5.0096</td>\n",
       "      <td>221700.0</td>\n",
       "      <td>&lt;1H OCEAN</td>\n",
       "    </tr>\n",
       "    <tr>\n",
       "      <th>8266</th>\n",
       "      <td>-118.18</td>\n",
       "      <td>33.77</td>\n",
       "      <td>49.0</td>\n",
       "      <td>2297.0</td>\n",
       "      <td>759.0</td>\n",
       "      <td>1105.0</td>\n",
       "      <td>629.0</td>\n",
       "      <td>1.8388</td>\n",
       "      <td>175000.0</td>\n",
       "      <td>NEAR OCEAN</td>\n",
       "    </tr>\n",
       "    <tr>\n",
       "      <th>9157</th>\n",
       "      <td>-118.46</td>\n",
       "      <td>34.42</td>\n",
       "      <td>25.0</td>\n",
       "      <td>2988.0</td>\n",
       "      <td>525.0</td>\n",
       "      <td>1884.0</td>\n",
       "      <td>513.0</td>\n",
       "      <td>4.7007</td>\n",
       "      <td>169500.0</td>\n",
       "      <td>&lt;1H OCEAN</td>\n",
       "    </tr>\n",
       "    <tr>\n",
       "      <th>3171</th>\n",
       "      <td>-119.57</td>\n",
       "      <td>36.44</td>\n",
       "      <td>30.0</td>\n",
       "      <td>1860.0</td>\n",
       "      <td>337.0</td>\n",
       "      <td>1123.0</td>\n",
       "      <td>347.0</td>\n",
       "      <td>3.4926</td>\n",
       "      <td>94200.0</td>\n",
       "      <td>INLAND</td>\n",
       "    </tr>\n",
       "  </tbody>\n",
       "</table>\n",
       "</div>"
      ],
      "text/plain": [
       "       longitude  latitude  housing_median_age  total_rooms  total_bedrooms  \\\n",
       "14033    -117.14     32.75                35.0       1391.0           329.0   \n",
       "10133    -117.91     33.91                34.0       1763.0           303.0   \n",
       "8266     -118.18     33.77                49.0       2297.0           759.0   \n",
       "9157     -118.46     34.42                25.0       2988.0           525.0   \n",
       "3171     -119.57     36.44                30.0       1860.0           337.0   \n",
       "\n",
       "       population  households  median_income  median_house_value  \\\n",
       "14033       726.0       317.0         2.6818            159400.0   \n",
       "10133       894.0       297.0         5.0096            221700.0   \n",
       "8266       1105.0       629.0         1.8388            175000.0   \n",
       "9157       1884.0       513.0         4.7007            169500.0   \n",
       "3171       1123.0       347.0         3.4926             94200.0   \n",
       "\n",
       "      ocean_proximity  \n",
       "14033      NEAR OCEAN  \n",
       "10133       <1H OCEAN  \n",
       "8266       NEAR OCEAN  \n",
       "9157        <1H OCEAN  \n",
       "3171           INLAND  "
      ]
     },
     "execution_count": 84,
     "metadata": {},
     "output_type": "execute_result"
    }
   ],
   "source": [
    "# Get random sample of 10 rows to see example values\n",
    "housing_examples = housing_df.sample(5)\n",
    "housing_examples"
   ]
  },
  {
   "cell_type": "code",
   "execution_count": 85,
   "id": "00e2e1a9",
   "metadata": {},
   "outputs": [
    {
     "name": "stdout",
     "output_type": "stream",
     "text": [
      "| Column name        | Data type   |   Non-null count |   Unique values | Examples                                             |\n",
      "|:-------------------|:------------|-----------------:|----------------:|:-----------------------------------------------------|\n",
      "| longitude          | float64     |            20640 |             844 | -117.14, -117.91, -118.18, -118.46, -119.57          |\n",
      "| latitude           | float64     |            20640 |             862 | 32.75, 33.91, 33.77, 34.42, 36.44                    |\n",
      "| housing_median_age | float64     |            20640 |              52 | 35.0, 34.0, 49.0, 25.0, 30.0                         |\n",
      "| total_rooms        | float64     |            20640 |            5926 | 1391.0, 1763.0, 2297.0, 2988.0, 1860.0               |\n",
      "| total_bedrooms     | float64     |            20433 |            1923 | 329.0, 303.0, 759.0, 525.0, 337.0                    |\n",
      "| population         | float64     |            20640 |            3888 | 726.0, 894.0, 1105.0, 1884.0, 1123.0                 |\n",
      "| households         | float64     |            20640 |            1815 | 317.0, 297.0, 629.0, 513.0, 347.0                    |\n",
      "| median_income      | float64     |            20640 |           12928 | 2.6818, 5.0096, 1.8388, 4.7007, 3.4926               |\n",
      "| median_house_value | float64     |            20640 |            3842 | 159400.0, 221700.0, 175000.0, 169500.0, 94200.0      |\n",
      "| ocean_proximity    | object      |            20640 |               5 | NEAR OCEAN, <1H OCEAN, NEAR OCEAN, <1H OCEAN, INLAND |\n"
     ]
    }
   ],
   "source": [
    "# Create summary table\n",
    "summary_1_2 = pd.DataFrame({\"Column name\":housing_df.columns, \"Data type\": housing_df.dtypes, \"Non-null count\": housing_df.notnull().sum(), \"Unique values\":housing_df.nunique()})\n",
    "\n",
    "summary_1_2[\"Examples\"] = [\n",
    "    \", \".join(map(str, housing_examples[col].tolist()))\n",
    "    for col in housing_df.columns\n",
    "]\n",
    "\n",
    "summary_1_2 = summary_1_2.reset_index(drop=True)\n",
    "\n",
    "markdown_table1_2 = summary_1_2.to_markdown(index=False)\n",
    "#print(markdown_table1_2)\n",
    "print(markdown_table1_2)"
   ]
  },
  {
   "cell_type": "code",
   "execution_count": 86,
   "id": "ca3d5a20",
   "metadata": {},
   "outputs": [
    {
     "data": {
      "text/html": [
       "<div>\n",
       "<style scoped>\n",
       "    .dataframe tbody tr th:only-of-type {\n",
       "        vertical-align: middle;\n",
       "    }\n",
       "\n",
       "    .dataframe tbody tr th {\n",
       "        vertical-align: top;\n",
       "    }\n",
       "\n",
       "    .dataframe thead th {\n",
       "        text-align: right;\n",
       "    }\n",
       "</style>\n",
       "<table border=\"1\" class=\"dataframe\">\n",
       "  <thead>\n",
       "    <tr style=\"text-align: right;\">\n",
       "      <th></th>\n",
       "      <th>longitude</th>\n",
       "      <th>latitude</th>\n",
       "      <th>housing_median_age</th>\n",
       "      <th>total_rooms</th>\n",
       "      <th>total_bedrooms</th>\n",
       "      <th>population</th>\n",
       "      <th>households</th>\n",
       "      <th>median_income</th>\n",
       "      <th>median_house_value</th>\n",
       "    </tr>\n",
       "  </thead>\n",
       "  <tbody>\n",
       "    <tr>\n",
       "      <th>count</th>\n",
       "      <td>20640.000000</td>\n",
       "      <td>20640.000000</td>\n",
       "      <td>20640.000000</td>\n",
       "      <td>20640.000000</td>\n",
       "      <td>20433.000000</td>\n",
       "      <td>20640.000000</td>\n",
       "      <td>20640.000000</td>\n",
       "      <td>20640.000000</td>\n",
       "      <td>20640.000000</td>\n",
       "    </tr>\n",
       "    <tr>\n",
       "      <th>mean</th>\n",
       "      <td>-119.569704</td>\n",
       "      <td>35.631861</td>\n",
       "      <td>28.639486</td>\n",
       "      <td>2635.763081</td>\n",
       "      <td>537.870553</td>\n",
       "      <td>1425.476744</td>\n",
       "      <td>499.539680</td>\n",
       "      <td>3.870671</td>\n",
       "      <td>206855.816909</td>\n",
       "    </tr>\n",
       "    <tr>\n",
       "      <th>std</th>\n",
       "      <td>2.003532</td>\n",
       "      <td>2.135952</td>\n",
       "      <td>12.585558</td>\n",
       "      <td>2181.615252</td>\n",
       "      <td>421.385070</td>\n",
       "      <td>1132.462122</td>\n",
       "      <td>382.329753</td>\n",
       "      <td>1.899822</td>\n",
       "      <td>115395.615874</td>\n",
       "    </tr>\n",
       "    <tr>\n",
       "      <th>min</th>\n",
       "      <td>-124.350000</td>\n",
       "      <td>32.540000</td>\n",
       "      <td>1.000000</td>\n",
       "      <td>2.000000</td>\n",
       "      <td>1.000000</td>\n",
       "      <td>3.000000</td>\n",
       "      <td>1.000000</td>\n",
       "      <td>0.499900</td>\n",
       "      <td>14999.000000</td>\n",
       "    </tr>\n",
       "    <tr>\n",
       "      <th>25%</th>\n",
       "      <td>-121.800000</td>\n",
       "      <td>33.930000</td>\n",
       "      <td>18.000000</td>\n",
       "      <td>1447.750000</td>\n",
       "      <td>296.000000</td>\n",
       "      <td>787.000000</td>\n",
       "      <td>280.000000</td>\n",
       "      <td>2.563400</td>\n",
       "      <td>119600.000000</td>\n",
       "    </tr>\n",
       "    <tr>\n",
       "      <th>50%</th>\n",
       "      <td>-118.490000</td>\n",
       "      <td>34.260000</td>\n",
       "      <td>29.000000</td>\n",
       "      <td>2127.000000</td>\n",
       "      <td>435.000000</td>\n",
       "      <td>1166.000000</td>\n",
       "      <td>409.000000</td>\n",
       "      <td>3.534800</td>\n",
       "      <td>179700.000000</td>\n",
       "    </tr>\n",
       "    <tr>\n",
       "      <th>75%</th>\n",
       "      <td>-118.010000</td>\n",
       "      <td>37.710000</td>\n",
       "      <td>37.000000</td>\n",
       "      <td>3148.000000</td>\n",
       "      <td>647.000000</td>\n",
       "      <td>1725.000000</td>\n",
       "      <td>605.000000</td>\n",
       "      <td>4.743250</td>\n",
       "      <td>264725.000000</td>\n",
       "    </tr>\n",
       "    <tr>\n",
       "      <th>max</th>\n",
       "      <td>-114.310000</td>\n",
       "      <td>41.950000</td>\n",
       "      <td>52.000000</td>\n",
       "      <td>39320.000000</td>\n",
       "      <td>6445.000000</td>\n",
       "      <td>35682.000000</td>\n",
       "      <td>6082.000000</td>\n",
       "      <td>15.000100</td>\n",
       "      <td>500001.000000</td>\n",
       "    </tr>\n",
       "  </tbody>\n",
       "</table>\n",
       "</div>"
      ],
      "text/plain": [
       "          longitude      latitude  housing_median_age   total_rooms  \\\n",
       "count  20640.000000  20640.000000        20640.000000  20640.000000   \n",
       "mean    -119.569704     35.631861           28.639486   2635.763081   \n",
       "std        2.003532      2.135952           12.585558   2181.615252   \n",
       "min     -124.350000     32.540000            1.000000      2.000000   \n",
       "25%     -121.800000     33.930000           18.000000   1447.750000   \n",
       "50%     -118.490000     34.260000           29.000000   2127.000000   \n",
       "75%     -118.010000     37.710000           37.000000   3148.000000   \n",
       "max     -114.310000     41.950000           52.000000  39320.000000   \n",
       "\n",
       "       total_bedrooms    population    households  median_income  \\\n",
       "count    20433.000000  20640.000000  20640.000000   20640.000000   \n",
       "mean       537.870553   1425.476744    499.539680       3.870671   \n",
       "std        421.385070   1132.462122    382.329753       1.899822   \n",
       "min          1.000000      3.000000      1.000000       0.499900   \n",
       "25%        296.000000    787.000000    280.000000       2.563400   \n",
       "50%        435.000000   1166.000000    409.000000       3.534800   \n",
       "75%        647.000000   1725.000000    605.000000       4.743250   \n",
       "max       6445.000000  35682.000000   6082.000000      15.000100   \n",
       "\n",
       "       median_house_value  \n",
       "count        20640.000000  \n",
       "mean        206855.816909  \n",
       "std         115395.615874  \n",
       "min          14999.000000  \n",
       "25%         119600.000000  \n",
       "50%         179700.000000  \n",
       "75%         264725.000000  \n",
       "max         500001.000000  "
      ]
     },
     "execution_count": 86,
     "metadata": {},
     "output_type": "execute_result"
    }
   ],
   "source": [
    "#getting some descriptive statistics\n",
    "housing_df.describe()"
   ]
  },
  {
   "cell_type": "code",
   "execution_count": 87,
   "id": "7c6442ee",
   "metadata": {},
   "outputs": [
    {
     "name": "stdout",
     "output_type": "stream",
     "text": [
      "|       |   longitude |    latitude |   housing_median_age |   total_rooms |   total_bedrooms |   population |   households |   median_income |   median_house_value |\n",
      "|:------|------------:|------------:|---------------------:|--------------:|-----------------:|-------------:|-------------:|----------------:|---------------------:|\n",
      "| count | 20640       | 20640       |           20640      |      20640    |        20433     |     20640    |     20640    |     20640       |                20640 |\n",
      "| mean  |  -119.57    |    35.6319  |              28.6395 |       2635.76 |          537.871 |      1425.48 |       499.54 |         3.87067 |               206856 |\n",
      "| std   |     2.00353 |     2.13595 |              12.5856 |       2181.62 |          421.385 |      1132.46 |       382.33 |         1.89982 |               115396 |\n",
      "| min   |  -124.35    |    32.54    |               1      |          2    |            1     |         3    |         1    |         0.4999  |                14999 |\n",
      "| 25%   |  -121.8     |    33.93    |              18      |       1447.75 |          296     |       787    |       280    |         2.5634  |               119600 |\n",
      "| 50%   |  -118.49    |    34.26    |              29      |       2127    |          435     |      1166    |       409    |         3.5348  |               179700 |\n",
      "| 75%   |  -118.01    |    37.71    |              37      |       3148    |          647     |      1725    |       605    |         4.74325 |               264725 |\n",
      "| max   |  -114.31    |    41.95    |              52      |      39320    |         6445     |     35682    |      6082    |        15.0001  |               500001 |\n"
     ]
    }
   ],
   "source": [
    "#converting to markdown format\n",
    "markdown_table1_3_1 = housing_df.describe().to_markdown()\n",
    "# Print the markdown tables\n",
    "print(markdown_table1_3_1)"
   ]
  },
  {
   "cell_type": "code",
   "execution_count": 88,
   "id": "5b8ca62a",
   "metadata": {},
   "outputs": [
    {
     "data": {
      "text/html": [
       "<div>\n",
       "<style scoped>\n",
       "    .dataframe tbody tr th:only-of-type {\n",
       "        vertical-align: middle;\n",
       "    }\n",
       "\n",
       "    .dataframe tbody tr th {\n",
       "        vertical-align: top;\n",
       "    }\n",
       "\n",
       "    .dataframe thead th {\n",
       "        text-align: right;\n",
       "    }\n",
       "</style>\n",
       "<table border=\"1\" class=\"dataframe\">\n",
       "  <thead>\n",
       "    <tr style=\"text-align: right;\">\n",
       "      <th></th>\n",
       "      <th>ocean_proximity</th>\n",
       "    </tr>\n",
       "  </thead>\n",
       "  <tbody>\n",
       "    <tr>\n",
       "      <th>Count</th>\n",
       "      <td>20640</td>\n",
       "    </tr>\n",
       "    <tr>\n",
       "      <th>Number of unique values</th>\n",
       "      <td>5</td>\n",
       "    </tr>\n",
       "    <tr>\n",
       "      <th>Most frequent value</th>\n",
       "      <td>&lt;1H OCEAN</td>\n",
       "    </tr>\n",
       "    <tr>\n",
       "      <th>Most frequent value (frequency)</th>\n",
       "      <td>9136</td>\n",
       "    </tr>\n",
       "    <tr>\n",
       "      <th>Least frequent value</th>\n",
       "      <td>ISLAND</td>\n",
       "    </tr>\n",
       "    <tr>\n",
       "      <th>Least frequent value (frequency)</th>\n",
       "      <td>5</td>\n",
       "    </tr>\n",
       "  </tbody>\n",
       "</table>\n",
       "</div>"
      ],
      "text/plain": [
       "                                 ocean_proximity\n",
       "Count                                      20640\n",
       "Number of unique values                        5\n",
       "Most frequent value                    <1H OCEAN\n",
       "Most frequent value (frequency)             9136\n",
       "Least frequent value                      ISLAND\n",
       "Least frequent value (frequency)               5"
      ]
     },
     "execution_count": 88,
     "metadata": {},
     "output_type": "execute_result"
    }
   ],
   "source": [
    "#getting basic descriptive statistics for categorical columns\n",
    "cat_desc_1 = housing_df.describe(include=\"object\")\n",
    "\n",
    "# Rename the existing rows\n",
    "cat_desc_1.rename(index={\n",
    "    \"count\": \"Count\",\n",
    "    \"unique\": \"Number of unique values\",\n",
    "    \"top\": \"Most frequent value\",\n",
    "    \"freq\": \"Most frequent value (frequency)\"\n",
    "}, inplace=True)\n",
    "\n",
    "# Add least frequent value and its frequency\n",
    "cat_desc_1.loc[\"Least frequent value\"] = housing_df.apply(lambda x: x.value_counts().idxmin())\n",
    "cat_desc_1.loc[\"Least frequent value (frequency)\"] = housing_df.apply(lambda x: x.value_counts().min())\n",
    "\n",
    "# Display the result\n",
    "cat_desc_1"
   ]
  },
  {
   "cell_type": "code",
   "execution_count": 89,
   "id": "63c7eb3b",
   "metadata": {},
   "outputs": [
    {
     "name": "stdout",
     "output_type": "stream",
     "text": [
      "|                                  | ocean_proximity   |\n",
      "|:---------------------------------|:------------------|\n",
      "| Count                            | 20640             |\n",
      "| Number of unique values          | 5                 |\n",
      "| Most frequent value              | <1H OCEAN         |\n",
      "| Most frequent value (frequency)  | 9136              |\n",
      "| Least frequent value             | ISLAND            |\n",
      "| Least frequent value (frequency) | 5                 |\n"
     ]
    }
   ],
   "source": [
    "#converting to markdown format\n",
    "markdown_table1_3_2 = cat_desc_1.to_markdown()\n",
    "# Print the markdown tables\n",
    "print(markdown_table1_3_2)"
   ]
  },
  {
   "cell_type": "code",
   "execution_count": 112,
   "id": "776d8cb8",
   "metadata": {},
   "outputs": [
    {
     "name": "stdout",
     "output_type": "stream",
     "text": [
      "                           Column name  Missing count  % Missing\n",
      "longitude                    longitude              0   0.000000\n",
      "latitude                      latitude              0   0.000000\n",
      "housing_median_age  housing_median_age              0   0.000000\n",
      "total_rooms                total_rooms              0   0.000000\n",
      "total_bedrooms          total_bedrooms            207   1.002907\n",
      "population                  population              0   0.000000\n",
      "households                  households              0   0.000000\n",
      "median_income            median_income              0   0.000000\n",
      "median_house_value  median_house_value              0   0.000000\n",
      "ocean_proximity        ocean_proximity              0   0.000000\n",
      "\n",
      "**Total missing values:** 207\n",
      "**Percentage of dataset affected:** 0.10%\n",
      "**Duplicated rows found:** 0\n",
      "**Percentage of rows in dataset affected:** 0.00%\n"
     ]
    }
   ],
   "source": [
    "# Missing values per column\n",
    "missing_count = housing_df.isnull().sum()\n",
    "missing_percent = (missing_count / len(housing_df)) * 100\n",
    "\n",
    "# Duplicated rows\n",
    "duplicated_count = housing_df.duplicated().sum()\n",
    "duplicated_percent = (duplicated_count / len(housing_df)) * 100\n",
    "\n",
    "# Create summary DataFrame for Markdown\n",
    "missing_housing_df = pd.DataFrame({\n",
    "    \"Column name\": housing_df.columns,\n",
    "    \"Missing count\": missing_count,\n",
    "    \"% Missing\": missing_percent\n",
    "})\n",
    "\n",
    "# Print table\n",
    "print(missing_housing_df)\n",
    "\n",
    "# Print summary\n",
    "print(f\"\\n**Total missing values:** {missing_count.sum()}\")\n",
    "print(f\"**Percentage of dataset affected:** {(missing_count.sum() / (len(housing_df)*len(housing_df.columns)) * 100):.2f}%\")\n",
    "print(f\"**Duplicated rows found:** {duplicated_count}\")\n",
    "print(f\"**Percentage of rows in dataset affected:** {duplicated_percent:.2f}%\")"
   ]
  },
  {
   "cell_type": "code",
   "execution_count": 128,
   "id": "e356d7e4",
   "metadata": {},
   "outputs": [
    {
     "name": "stdout",
     "output_type": "stream",
     "text": [
      "| Column name        |   Missing count |   % Missing |\n",
      "|:-------------------|----------------:|------------:|\n",
      "| longitude          |               0 |     0       |\n",
      "| latitude           |               0 |     0       |\n",
      "| housing_median_age |               0 |     0       |\n",
      "| total_rooms        |               0 |     0       |\n",
      "| total_bedrooms     |             207 |     1.00291 |\n",
      "| population         |               0 |     0       |\n",
      "| households         |               0 |     0       |\n",
      "| median_income      |               0 |     0       |\n",
      "| median_house_value |               0 |     0       |\n",
      "| ocean_proximity    |               0 |     0       |\n",
      "\n",
      "**Total missing values:** 145\n",
      "**Percentage of dataset affected:** 0.07%\n",
      "**Duplicated rows found:** 0\n",
      "**Percentage of rows in dataset affected:** 0.00%\n"
     ]
    }
   ],
   "source": [
    "#Convert to markdown format\n",
    "print(missing_housing_df.to_markdown(index=False))\n",
    "# Print summary\n",
    "print(f\"\\n**Total missing values:** {missing_count.sum()}\")\n",
    "print(f\"**Percentage of dataset affected:** {(missing_count.sum() / (len(housing_df)*len(housing_df.columns)) * 100):.2f}%\")\n",
    "print(f\"**Duplicated rows found:** {duplicated_count}\")\n",
    "print(f\"**Percentage of rows in dataset affected:** {duplicated_percent:.2f}%\")"
   ]
  },
  {
   "cell_type": "markdown",
   "id": "a29a487f",
   "metadata": {},
   "source": [
    "END OF DATASET 1\n",
    "__________________________________________________________________________________________________________"
   ]
  },
  {
   "cell_type": "code",
   "execution_count": 129,
   "id": "d9c5cfd1",
   "metadata": {},
   "outputs": [
    {
     "name": "stdout",
     "output_type": "stream",
     "text": [
      "Path to dataset files: C:\\Users\\sassa\\.cache\\kagglehub\\datasets\\sujalsuthar\\amazon-delivery-dataset\\versions\\1\n"
     ]
    }
   ],
   "source": [
    "#Dataset 2: Amazon\n",
    "#2. Structure of the data\n",
    "\n",
    "# Download latest version\n",
    "path_amazon = kagglehub.dataset_download(\"sujalsuthar/amazon-delivery-dataset\")\n",
    "\n",
    "print(\"Path to dataset files:\", path_amazon)\n",
    "amazon_df = pd.read_csv(f\"{path_amazon}/Amazon_delivery.csv\")"
   ]
  },
  {
   "cell_type": "code",
   "execution_count": 130,
   "id": "4608ae3e",
   "metadata": {},
   "outputs": [
    {
     "data": {
      "text/plain": [
       "(43739, 16)"
      ]
     },
     "execution_count": 130,
     "metadata": {},
     "output_type": "execute_result"
    }
   ],
   "source": [
    "# Get size of dataset\n",
    "amazon_df.shape"
   ]
  },
  {
   "cell_type": "code",
   "execution_count": 131,
   "id": "1b7ec13f",
   "metadata": {},
   "outputs": [],
   "source": [
    "# Name dataset\n",
    "amazon_df = pd.read_csv(f\"{path_amazon}/amazon_delivery.csv\")"
   ]
  },
  {
   "cell_type": "code",
   "execution_count": 132,
   "id": "06456891",
   "metadata": {},
   "outputs": [
    {
     "data": {
      "text/plain": [
       "Index(['Order_ID', 'Agent_Age', 'Agent_Rating', 'Store_Latitude',\n",
       "       'Store_Longitude', 'Drop_Latitude', 'Drop_Longitude', 'Order_Date',\n",
       "       'Order_Time', 'Pickup_Time', 'Weather', 'Traffic', 'Vehicle', 'Area',\n",
       "       'Delivery_Time', 'Category'],\n",
       "      dtype='object')"
      ]
     },
     "execution_count": 132,
     "metadata": {},
     "output_type": "execute_result"
    }
   ],
   "source": [
    "# Get column names\n",
    "amazon_df.columns\n"
   ]
  },
  {
   "cell_type": "code",
   "execution_count": 133,
   "id": "ed5d97b1",
   "metadata": {},
   "outputs": [
    {
     "data": {
      "text/plain": [
       "Order_ID            object\n",
       "Agent_Age            int64\n",
       "Agent_Rating       float64\n",
       "Store_Latitude     float64\n",
       "Store_Longitude    float64\n",
       "Drop_Latitude      float64\n",
       "Drop_Longitude     float64\n",
       "Order_Date          object\n",
       "Order_Time          object\n",
       "Pickup_Time         object\n",
       "Weather             object\n",
       "Traffic             object\n",
       "Vehicle             object\n",
       "Area                object\n",
       "Delivery_Time        int64\n",
       "Category            object\n",
       "dtype: object"
      ]
     },
     "execution_count": 133,
     "metadata": {},
     "output_type": "execute_result"
    }
   ],
   "source": [
    "# Get column types\n",
    "amazon_df.dtypes"
   ]
  },
  {
   "cell_type": "code",
   "execution_count": 134,
   "id": "f1eb0cec",
   "metadata": {},
   "outputs": [
    {
     "data": {
      "text/plain": [
       "Order_ID           43739\n",
       "Agent_Age          43739\n",
       "Agent_Rating       43685\n",
       "Store_Latitude     43739\n",
       "Store_Longitude    43739\n",
       "Drop_Latitude      43739\n",
       "Drop_Longitude     43739\n",
       "Order_Date         43739\n",
       "Order_Time         43739\n",
       "Pickup_Time        43739\n",
       "Weather            43648\n",
       "Traffic            43739\n",
       "Vehicle            43739\n",
       "Area               43739\n",
       "Delivery_Time      43739\n",
       "Category           43739\n",
       "dtype: int64"
      ]
     },
     "execution_count": 134,
     "metadata": {},
     "output_type": "execute_result"
    }
   ],
   "source": [
    "# Get non-null counts\n",
    "amazon_df.notnull().sum()"
   ]
  },
  {
   "cell_type": "code",
   "execution_count": 135,
   "id": "288d0222",
   "metadata": {},
   "outputs": [
    {
     "data": {
      "text/plain": [
       "Order_ID           43739\n",
       "Agent_Age             22\n",
       "Agent_Rating          28\n",
       "Store_Latitude       521\n",
       "Store_Longitude      415\n",
       "Drop_Latitude       4367\n",
       "Drop_Longitude      4367\n",
       "Order_Date            44\n",
       "Order_Time           177\n",
       "Pickup_Time          193\n",
       "Weather                6\n",
       "Traffic                5\n",
       "Vehicle                4\n",
       "Area                   4\n",
       "Delivery_Time         89\n",
       "Category              16\n",
       "dtype: int64"
      ]
     },
     "execution_count": 135,
     "metadata": {},
     "output_type": "execute_result"
    }
   ],
   "source": [
    "# Get number of unique values in each column\n",
    "amazon_df.nunique()"
   ]
  },
  {
   "cell_type": "code",
   "execution_count": 136,
   "id": "f3325824",
   "metadata": {},
   "outputs": [
    {
     "data": {
      "text/html": [
       "<div>\n",
       "<style scoped>\n",
       "    .dataframe tbody tr th:only-of-type {\n",
       "        vertical-align: middle;\n",
       "    }\n",
       "\n",
       "    .dataframe tbody tr th {\n",
       "        vertical-align: top;\n",
       "    }\n",
       "\n",
       "    .dataframe thead th {\n",
       "        text-align: right;\n",
       "    }\n",
       "</style>\n",
       "<table border=\"1\" class=\"dataframe\">\n",
       "  <thead>\n",
       "    <tr style=\"text-align: right;\">\n",
       "      <th></th>\n",
       "      <th>Order_ID</th>\n",
       "      <th>Agent_Age</th>\n",
       "      <th>Agent_Rating</th>\n",
       "      <th>Store_Latitude</th>\n",
       "      <th>Store_Longitude</th>\n",
       "      <th>Drop_Latitude</th>\n",
       "      <th>Drop_Longitude</th>\n",
       "      <th>Order_Date</th>\n",
       "      <th>Order_Time</th>\n",
       "      <th>Pickup_Time</th>\n",
       "      <th>Weather</th>\n",
       "      <th>Traffic</th>\n",
       "      <th>Vehicle</th>\n",
       "      <th>Area</th>\n",
       "      <th>Delivery_Time</th>\n",
       "      <th>Category</th>\n",
       "    </tr>\n",
       "  </thead>\n",
       "  <tbody>\n",
       "    <tr>\n",
       "      <th>18699</th>\n",
       "      <td>whnt763809857</td>\n",
       "      <td>24</td>\n",
       "      <td>4.8</td>\n",
       "      <td>11.020910</td>\n",
       "      <td>76.940432</td>\n",
       "      <td>11.040910</td>\n",
       "      <td>76.960432</td>\n",
       "      <td>2022-03-09</td>\n",
       "      <td>11:55:00</td>\n",
       "      <td>12:05:00</td>\n",
       "      <td>Sandstorms</td>\n",
       "      <td>High</td>\n",
       "      <td>motorcycle</td>\n",
       "      <td>Metropolitian</td>\n",
       "      <td>180</td>\n",
       "      <td>Electronics</td>\n",
       "    </tr>\n",
       "    <tr>\n",
       "      <th>19601</th>\n",
       "      <td>csvx453850593</td>\n",
       "      <td>24</td>\n",
       "      <td>4.7</td>\n",
       "      <td>13.054347</td>\n",
       "      <td>80.257221</td>\n",
       "      <td>13.134347</td>\n",
       "      <td>80.337221</td>\n",
       "      <td>2022-03-10</td>\n",
       "      <td>19:10:00</td>\n",
       "      <td>19:15:00</td>\n",
       "      <td>Sandstorms</td>\n",
       "      <td>Jam</td>\n",
       "      <td>motorcycle</td>\n",
       "      <td>Urban</td>\n",
       "      <td>90</td>\n",
       "      <td>Clothing</td>\n",
       "    </tr>\n",
       "    <tr>\n",
       "      <th>17157</th>\n",
       "      <td>hiui841267791</td>\n",
       "      <td>26</td>\n",
       "      <td>4.5</td>\n",
       "      <td>18.554382</td>\n",
       "      <td>73.798206</td>\n",
       "      <td>18.604382</td>\n",
       "      <td>73.848206</td>\n",
       "      <td>2022-03-15</td>\n",
       "      <td>18:35:00</td>\n",
       "      <td>18:50:00</td>\n",
       "      <td>Stormy</td>\n",
       "      <td>Medium</td>\n",
       "      <td>scooter</td>\n",
       "      <td>Urban</td>\n",
       "      <td>120</td>\n",
       "      <td>Toys</td>\n",
       "    </tr>\n",
       "    <tr>\n",
       "      <th>18156</th>\n",
       "      <td>ettb788098025</td>\n",
       "      <td>24</td>\n",
       "      <td>4.9</td>\n",
       "      <td>26.849596</td>\n",
       "      <td>75.800512</td>\n",
       "      <td>26.939596</td>\n",
       "      <td>75.890512</td>\n",
       "      <td>2022-03-31</td>\n",
       "      <td>17:20:00</td>\n",
       "      <td>17:25:00</td>\n",
       "      <td>Fog</td>\n",
       "      <td>Medium</td>\n",
       "      <td>motorcycle</td>\n",
       "      <td>Metropolitian</td>\n",
       "      <td>38</td>\n",
       "      <td>Grocery</td>\n",
       "    </tr>\n",
       "    <tr>\n",
       "      <th>2643</th>\n",
       "      <td>noba732943659</td>\n",
       "      <td>25</td>\n",
       "      <td>4.5</td>\n",
       "      <td>18.593481</td>\n",
       "      <td>73.785901</td>\n",
       "      <td>18.623481</td>\n",
       "      <td>73.815901</td>\n",
       "      <td>2022-04-01</td>\n",
       "      <td>20:45:00</td>\n",
       "      <td>21:00:00</td>\n",
       "      <td>Cloudy</td>\n",
       "      <td>Jam</td>\n",
       "      <td>motorcycle</td>\n",
       "      <td>Metropolitian</td>\n",
       "      <td>150</td>\n",
       "      <td>Books</td>\n",
       "    </tr>\n",
       "  </tbody>\n",
       "</table>\n",
       "</div>"
      ],
      "text/plain": [
       "            Order_ID  Agent_Age  Agent_Rating  Store_Latitude  \\\n",
       "18699  whnt763809857         24           4.8       11.020910   \n",
       "19601  csvx453850593         24           4.7       13.054347   \n",
       "17157  hiui841267791         26           4.5       18.554382   \n",
       "18156  ettb788098025         24           4.9       26.849596   \n",
       "2643   noba732943659         25           4.5       18.593481   \n",
       "\n",
       "       Store_Longitude  Drop_Latitude  Drop_Longitude  Order_Date Order_Time  \\\n",
       "18699        76.940432      11.040910       76.960432  2022-03-09   11:55:00   \n",
       "19601        80.257221      13.134347       80.337221  2022-03-10   19:10:00   \n",
       "17157        73.798206      18.604382       73.848206  2022-03-15   18:35:00   \n",
       "18156        75.800512      26.939596       75.890512  2022-03-31   17:20:00   \n",
       "2643         73.785901      18.623481       73.815901  2022-04-01   20:45:00   \n",
       "\n",
       "      Pickup_Time     Weather  Traffic      Vehicle            Area  \\\n",
       "18699    12:05:00  Sandstorms    High   motorcycle   Metropolitian    \n",
       "19601    19:15:00  Sandstorms     Jam   motorcycle           Urban    \n",
       "17157    18:50:00      Stormy  Medium      scooter           Urban    \n",
       "18156    17:25:00         Fog  Medium   motorcycle   Metropolitian    \n",
       "2643     21:00:00      Cloudy     Jam   motorcycle   Metropolitian    \n",
       "\n",
       "       Delivery_Time     Category  \n",
       "18699            180  Electronics  \n",
       "19601             90     Clothing  \n",
       "17157            120         Toys  \n",
       "18156             38      Grocery  \n",
       "2643             150        Books  "
      ]
     },
     "execution_count": 136,
     "metadata": {},
     "output_type": "execute_result"
    }
   ],
   "source": [
    "# Get random sample of 5 rows to see example values\n",
    "examples = amazon_df.sample(5)\n",
    "examples"
   ]
  },
  {
   "cell_type": "code",
   "execution_count": 137,
   "id": "d17cf1ce",
   "metadata": {},
   "outputs": [
    {
     "name": "stdout",
     "output_type": "stream",
     "text": [
      "| Column name     | Data type   |   Non-null count |   Unique values | Examples                                                                  |\n",
      "|:----------------|:------------|-----------------:|----------------:|:--------------------------------------------------------------------------|\n",
      "| Order_ID        | object      |            43739 |           43739 | whnt763809857, csvx453850593, hiui841267791, ettb788098025, noba732943659 |\n",
      "| Agent_Age       | int64       |            43739 |              22 | 24, 24, 26, 24, 25                                                        |\n",
      "| Agent_Rating    | float64     |            43685 |              28 | 4.8, 4.7, 4.5, 4.9, 4.5                                                   |\n",
      "| Store_Latitude  | float64     |            43739 |             521 | 11.02091, 13.054347, 18.554382, 26.849596, 18.593481                      |\n",
      "| Store_Longitude | float64     |            43739 |             415 | 76.940432, 80.257221, 73.798206, 75.800512, 73.785901                     |\n",
      "| Drop_Latitude   | float64     |            43739 |            4367 | 11.04091, 13.134347, 18.604382, 26.939596, 18.623481                      |\n",
      "| Drop_Longitude  | float64     |            43739 |            4367 | 76.960432, 80.337221, 73.848206, 75.890512, 73.815901                     |\n",
      "| Order_Date      | object      |            43739 |              44 | 2022-03-09, 2022-03-10, 2022-03-15, 2022-03-31, 2022-04-01                |\n",
      "| Order_Time      | object      |            43739 |             177 | 11:55:00, 19:10:00, 18:35:00, 17:20:00, 20:45:00                          |\n",
      "| Pickup_Time     | object      |            43739 |             193 | 12:05:00, 19:15:00, 18:50:00, 17:25:00, 21:00:00                          |\n",
      "| Weather         | object      |            43648 |               6 | Sandstorms, Sandstorms, Stormy, Fog, Cloudy                               |\n",
      "| Traffic         | object      |            43739 |               5 | High , Jam , Medium , Medium , Jam                                        |\n",
      "| Vehicle         | object      |            43739 |               4 | motorcycle , motorcycle , scooter , motorcycle , motorcycle               |\n",
      "| Area            | object      |            43739 |               4 | Metropolitian , Urban , Urban , Metropolitian , Metropolitian             |\n",
      "| Delivery_Time   | int64       |            43739 |              89 | 180, 90, 120, 38, 150                                                     |\n",
      "| Category        | object      |            43739 |              16 | Electronics, Clothing, Toys, Grocery, Books                               |\n"
     ]
    }
   ],
   "source": [
    "# Create summary table\n",
    "summary_2_2 = pd.DataFrame({\"Column name\":amazon_df.columns, \"Data type\": amazon_df.dtypes, \"Non-null count\": amazon_df.notnull().sum(), \"Unique values\":amazon_df.nunique()})\n",
    "\n",
    "summary_2_2[\"Examples\"] = [\n",
    "    \", \".join(map(str, examples[col].tolist()))\n",
    "    for col in amazon_df.columns\n",
    "]\n",
    "\n",
    "summary_2_2 = summary_2_2.reset_index(drop=True)\n",
    "\n",
    "markdown_table2_2 = summary_2_2.to_markdown(index=False)\n",
    "\n",
    "#print(markdown_table2_2)\n",
    "print(markdown_table2_2)\n"
   ]
  },
  {
   "cell_type": "code",
   "execution_count": 138,
   "id": "c81b9b8e",
   "metadata": {},
   "outputs": [
    {
     "data": {
      "text/html": [
       "<div>\n",
       "<style scoped>\n",
       "    .dataframe tbody tr th:only-of-type {\n",
       "        vertical-align: middle;\n",
       "    }\n",
       "\n",
       "    .dataframe tbody tr th {\n",
       "        vertical-align: top;\n",
       "    }\n",
       "\n",
       "    .dataframe thead th {\n",
       "        text-align: right;\n",
       "    }\n",
       "</style>\n",
       "<table border=\"1\" class=\"dataframe\">\n",
       "  <thead>\n",
       "    <tr style=\"text-align: right;\">\n",
       "      <th></th>\n",
       "      <th>Agent_Age</th>\n",
       "      <th>Agent_Rating</th>\n",
       "      <th>Store_Latitude</th>\n",
       "      <th>Store_Longitude</th>\n",
       "      <th>Drop_Latitude</th>\n",
       "      <th>Drop_Longitude</th>\n",
       "      <th>Delivery_Time</th>\n",
       "    </tr>\n",
       "  </thead>\n",
       "  <tbody>\n",
       "    <tr>\n",
       "      <th>count</th>\n",
       "      <td>43739.000000</td>\n",
       "      <td>43685.000000</td>\n",
       "      <td>43739.000000</td>\n",
       "      <td>43739.000000</td>\n",
       "      <td>43739.000000</td>\n",
       "      <td>43739.000000</td>\n",
       "      <td>43739.000000</td>\n",
       "    </tr>\n",
       "    <tr>\n",
       "      <th>mean</th>\n",
       "      <td>29.567137</td>\n",
       "      <td>4.633780</td>\n",
       "      <td>17.210960</td>\n",
       "      <td>70.661177</td>\n",
       "      <td>17.459031</td>\n",
       "      <td>70.821842</td>\n",
       "      <td>124.905645</td>\n",
       "    </tr>\n",
       "    <tr>\n",
       "      <th>std</th>\n",
       "      <td>5.815155</td>\n",
       "      <td>0.334716</td>\n",
       "      <td>7.764225</td>\n",
       "      <td>21.475005</td>\n",
       "      <td>7.342950</td>\n",
       "      <td>21.153148</td>\n",
       "      <td>51.915451</td>\n",
       "    </tr>\n",
       "    <tr>\n",
       "      <th>min</th>\n",
       "      <td>15.000000</td>\n",
       "      <td>1.000000</td>\n",
       "      <td>-30.902872</td>\n",
       "      <td>-88.366217</td>\n",
       "      <td>0.010000</td>\n",
       "      <td>0.010000</td>\n",
       "      <td>10.000000</td>\n",
       "    </tr>\n",
       "    <tr>\n",
       "      <th>25%</th>\n",
       "      <td>25.000000</td>\n",
       "      <td>4.500000</td>\n",
       "      <td>12.933298</td>\n",
       "      <td>73.170283</td>\n",
       "      <td>12.985996</td>\n",
       "      <td>73.280000</td>\n",
       "      <td>90.000000</td>\n",
       "    </tr>\n",
       "    <tr>\n",
       "      <th>50%</th>\n",
       "      <td>30.000000</td>\n",
       "      <td>4.700000</td>\n",
       "      <td>18.551440</td>\n",
       "      <td>75.898497</td>\n",
       "      <td>18.633626</td>\n",
       "      <td>76.002574</td>\n",
       "      <td>125.000000</td>\n",
       "    </tr>\n",
       "    <tr>\n",
       "      <th>75%</th>\n",
       "      <td>35.000000</td>\n",
       "      <td>4.900000</td>\n",
       "      <td>22.732225</td>\n",
       "      <td>78.045359</td>\n",
       "      <td>22.785049</td>\n",
       "      <td>78.104095</td>\n",
       "      <td>160.000000</td>\n",
       "    </tr>\n",
       "    <tr>\n",
       "      <th>max</th>\n",
       "      <td>50.000000</td>\n",
       "      <td>6.000000</td>\n",
       "      <td>30.914057</td>\n",
       "      <td>88.433452</td>\n",
       "      <td>31.054057</td>\n",
       "      <td>88.563452</td>\n",
       "      <td>270.000000</td>\n",
       "    </tr>\n",
       "  </tbody>\n",
       "</table>\n",
       "</div>"
      ],
      "text/plain": [
       "          Agent_Age  Agent_Rating  Store_Latitude  Store_Longitude  \\\n",
       "count  43739.000000  43685.000000    43739.000000     43739.000000   \n",
       "mean      29.567137      4.633780       17.210960        70.661177   \n",
       "std        5.815155      0.334716        7.764225        21.475005   \n",
       "min       15.000000      1.000000      -30.902872       -88.366217   \n",
       "25%       25.000000      4.500000       12.933298        73.170283   \n",
       "50%       30.000000      4.700000       18.551440        75.898497   \n",
       "75%       35.000000      4.900000       22.732225        78.045359   \n",
       "max       50.000000      6.000000       30.914057        88.433452   \n",
       "\n",
       "       Drop_Latitude  Drop_Longitude  Delivery_Time  \n",
       "count   43739.000000    43739.000000   43739.000000  \n",
       "mean       17.459031       70.821842     124.905645  \n",
       "std         7.342950       21.153148      51.915451  \n",
       "min         0.010000        0.010000      10.000000  \n",
       "25%        12.985996       73.280000      90.000000  \n",
       "50%        18.633626       76.002574     125.000000  \n",
       "75%        22.785049       78.104095     160.000000  \n",
       "max        31.054057       88.563452     270.000000  "
      ]
     },
     "execution_count": 138,
     "metadata": {},
     "output_type": "execute_result"
    }
   ],
   "source": [
    "#getting some descriptive statistics \n",
    "amazon_df.describe()"
   ]
  },
  {
   "cell_type": "code",
   "execution_count": 139,
   "id": "c9fa70ad",
   "metadata": {},
   "outputs": [
    {
     "name": "stdout",
     "output_type": "stream",
     "text": [
      "|       |   Agent_Age |   Agent_Rating |   Store_Latitude |   Store_Longitude |   Drop_Latitude |   Drop_Longitude |   Delivery_Time |\n",
      "|:------|------------:|---------------:|-----------------:|------------------:|----------------:|-----------------:|----------------:|\n",
      "| count | 43739       |   43685        |      43739       |        43739      |     43739       |       43739      |      43739      |\n",
      "| mean  |    29.5671  |       4.63378  |         17.211   |           70.6612 |        17.459   |          70.8218 |        124.906  |\n",
      "| std   |     5.81516 |       0.334716 |          7.76423 |           21.475  |         7.34295 |          21.1531 |         51.9155 |\n",
      "| min   |    15       |       1        |        -30.9029  |          -88.3662 |         0.01    |           0.01   |         10      |\n",
      "| 25%   |    25       |       4.5      |         12.9333  |           73.1703 |        12.986   |          73.28   |         90      |\n",
      "| 50%   |    30       |       4.7      |         18.5514  |           75.8985 |        18.6336  |          76.0026 |        125      |\n",
      "| 75%   |    35       |       4.9      |         22.7322  |           78.0454 |        22.785   |          78.1041 |        160      |\n",
      "| max   |    50       |       6        |         30.9141  |           88.4335 |        31.0541  |          88.5635 |        270      |\n"
     ]
    }
   ],
   "source": [
    "#converting to markdown format\n",
    "markdown_table2_3_1 = amazon_df.describe().to_markdown()\n",
    "# Print the markdown tables\n",
    "print(markdown_table2_3_1)"
   ]
  },
  {
   "cell_type": "code",
   "execution_count": 140,
   "id": "895e1fb2",
   "metadata": {},
   "outputs": [
    {
     "data": {
      "text/html": [
       "<div>\n",
       "<style scoped>\n",
       "    .dataframe tbody tr th:only-of-type {\n",
       "        vertical-align: middle;\n",
       "    }\n",
       "\n",
       "    .dataframe tbody tr th {\n",
       "        vertical-align: top;\n",
       "    }\n",
       "\n",
       "    .dataframe thead th {\n",
       "        text-align: right;\n",
       "    }\n",
       "</style>\n",
       "<table border=\"1\" class=\"dataframe\">\n",
       "  <thead>\n",
       "    <tr style=\"text-align: right;\">\n",
       "      <th></th>\n",
       "      <th>Order_ID</th>\n",
       "      <th>Order_Date</th>\n",
       "      <th>Order_Time</th>\n",
       "      <th>Pickup_Time</th>\n",
       "      <th>Weather</th>\n",
       "      <th>Traffic</th>\n",
       "      <th>Vehicle</th>\n",
       "      <th>Area</th>\n",
       "      <th>Category</th>\n",
       "    </tr>\n",
       "  </thead>\n",
       "  <tbody>\n",
       "    <tr>\n",
       "      <th>Count</th>\n",
       "      <td>43739</td>\n",
       "      <td>43739</td>\n",
       "      <td>43739</td>\n",
       "      <td>43739</td>\n",
       "      <td>43648</td>\n",
       "      <td>43739</td>\n",
       "      <td>43739</td>\n",
       "      <td>43739</td>\n",
       "      <td>43739</td>\n",
       "    </tr>\n",
       "    <tr>\n",
       "      <th>Number of unique values</th>\n",
       "      <td>43739</td>\n",
       "      <td>44</td>\n",
       "      <td>177</td>\n",
       "      <td>193</td>\n",
       "      <td>6</td>\n",
       "      <td>5</td>\n",
       "      <td>4</td>\n",
       "      <td>4</td>\n",
       "      <td>16</td>\n",
       "    </tr>\n",
       "    <tr>\n",
       "      <th>Most frequent value</th>\n",
       "      <td>ialx566343618</td>\n",
       "      <td>2022-03-15</td>\n",
       "      <td>21:55:00</td>\n",
       "      <td>21:30:00</td>\n",
       "      <td>Fog</td>\n",
       "      <td>Low</td>\n",
       "      <td>motorcycle</td>\n",
       "      <td>Metropolitian</td>\n",
       "      <td>Electronics</td>\n",
       "    </tr>\n",
       "    <tr>\n",
       "      <th>Most frequent value (frequency)</th>\n",
       "      <td>1</td>\n",
       "      <td>1141</td>\n",
       "      <td>460</td>\n",
       "      <td>481</td>\n",
       "      <td>7440</td>\n",
       "      <td>14999</td>\n",
       "      <td>25527</td>\n",
       "      <td>32698</td>\n",
       "      <td>2849</td>\n",
       "    </tr>\n",
       "    <tr>\n",
       "      <th>Least frequent value</th>\n",
       "      <td>ialx566343618</td>\n",
       "      <td>2022-02-18</td>\n",
       "      <td>16:30:00</td>\n",
       "      <td>16:20:00</td>\n",
       "      <td>Sunny</td>\n",
       "      <td>NaN</td>\n",
       "      <td>bicycle</td>\n",
       "      <td>Semi-Urban</td>\n",
       "      <td>Shoes</td>\n",
       "    </tr>\n",
       "    <tr>\n",
       "      <th>Least frequent value (frequency)</th>\n",
       "      <td>1</td>\n",
       "      <td>819</td>\n",
       "      <td>51</td>\n",
       "      <td>36</td>\n",
       "      <td>7078</td>\n",
       "      <td>91</td>\n",
       "      <td>15</td>\n",
       "      <td>152</td>\n",
       "      <td>2666</td>\n",
       "    </tr>\n",
       "  </tbody>\n",
       "</table>\n",
       "</div>"
      ],
      "text/plain": [
       "                                       Order_ID  Order_Date Order_Time  \\\n",
       "Count                                     43739       43739      43739   \n",
       "Number of unique values                   43739          44        177   \n",
       "Most frequent value               ialx566343618  2022-03-15   21:55:00   \n",
       "Most frequent value (frequency)               1        1141        460   \n",
       "Least frequent value              ialx566343618  2022-02-18   16:30:00   \n",
       "Least frequent value (frequency)              1         819         51   \n",
       "\n",
       "                                 Pickup_Time Weather Traffic      Vehicle  \\\n",
       "Count                                  43739   43648   43739        43739   \n",
       "Number of unique values                  193       6       5            4   \n",
       "Most frequent value                 21:30:00     Fog    Low   motorcycle    \n",
       "Most frequent value (frequency)          481    7440   14999        25527   \n",
       "Least frequent value                16:20:00   Sunny    NaN      bicycle    \n",
       "Least frequent value (frequency)          36    7078      91           15   \n",
       "\n",
       "                                            Area     Category  \n",
       "Count                                      43739        43739  \n",
       "Number of unique values                        4           16  \n",
       "Most frequent value               Metropolitian   Electronics  \n",
       "Most frequent value (frequency)            32698         2849  \n",
       "Least frequent value                 Semi-Urban         Shoes  \n",
       "Least frequent value (frequency)             152         2666  "
      ]
     },
     "execution_count": 140,
     "metadata": {},
     "output_type": "execute_result"
    }
   ],
   "source": [
    "#getting basic descriptive statistics for categorical columns\n",
    "cat_desc_2 = amazon_df.describe(include=\"object\")\n",
    "\n",
    "# Rename the existing rows\n",
    "cat_desc_2.rename(index={\n",
    "    \"count\": \"Count\",\n",
    "    \"unique\": \"Number of unique values\",\n",
    "    \"top\": \"Most frequent value\",\n",
    "    \"freq\": \"Most frequent value (frequency)\"\n",
    "}, inplace=True)\n",
    "\n",
    "# Add least frequent value and its frequency\n",
    "cat_desc_2.loc[\"Least frequent value\"] = amazon_df.apply(lambda x: x.value_counts().idxmin())\n",
    "cat_desc_2.loc[\"Least frequent value (frequency)\"] = amazon_df.apply(lambda x: x.value_counts().min())\n",
    "\n",
    "# Display the result\n",
    "cat_desc_2"
   ]
  },
  {
   "cell_type": "code",
   "execution_count": 141,
   "id": "171c967d",
   "metadata": {},
   "outputs": [
    {
     "name": "stdout",
     "output_type": "stream",
     "text": [
      "|                                  | Order_ID      | Order_Date   | Order_Time   | Pickup_Time   | Weather   | Traffic   | Vehicle    | Area          | Category    |\n",
      "|:---------------------------------|:--------------|:-------------|:-------------|:--------------|:----------|:----------|:-----------|:--------------|:------------|\n",
      "| Count                            | 43739         | 43739        | 43739        | 43739         | 43648     | 43739     | 43739      | 43739         | 43739       |\n",
      "| Number of unique values          | 43739         | 44           | 177          | 193           | 6         | 5         | 4          | 4             | 16          |\n",
      "| Most frequent value              | ialx566343618 | 2022-03-15   | 21:55:00     | 21:30:00      | Fog       | Low       | motorcycle | Metropolitian | Electronics |\n",
      "| Most frequent value (frequency)  | 1             | 1141         | 460          | 481           | 7440      | 14999     | 25527      | 32698         | 2849        |\n",
      "| Least frequent value             | ialx566343618 | 2022-02-18   | 16:30:00     | 16:20:00      | Sunny     | NaN       | bicycle    | Semi-Urban    | Shoes       |\n",
      "| Least frequent value (frequency) | 1             | 819          | 51           | 36            | 7078      | 91        | 15         | 152           | 2666        |\n"
     ]
    }
   ],
   "source": [
    "#converting to markdown format\n",
    "markdown_table2_3_2 = cat_desc_2.to_markdown()\n",
    "\n",
    "# Print the markdown tables\n",
    "print(markdown_table2_3_2)"
   ]
  },
  {
   "cell_type": "code",
   "execution_count": 142,
   "id": "3225aa7d",
   "metadata": {},
   "outputs": [
    {
     "name": "stdout",
     "output_type": "stream",
     "text": [
      "                     Column name  Missing count  % Missing\n",
      "Order_ID                Order_ID              0   0.000000\n",
      "Agent_Age              Agent_Age              0   0.000000\n",
      "Agent_Rating        Agent_Rating             54   0.123460\n",
      "Store_Latitude    Store_Latitude              0   0.000000\n",
      "Store_Longitude  Store_Longitude              0   0.000000\n",
      "Drop_Latitude      Drop_Latitude              0   0.000000\n",
      "Drop_Longitude    Drop_Longitude              0   0.000000\n",
      "Order_Date            Order_Date              0   0.000000\n",
      "Order_Time            Order_Time              0   0.000000\n",
      "Pickup_Time          Pickup_Time              0   0.000000\n",
      "Weather                  Weather             91   0.208052\n",
      "Traffic                  Traffic              0   0.000000\n",
      "Vehicle                  Vehicle              0   0.000000\n",
      "Area                        Area              0   0.000000\n",
      "Delivery_Time      Delivery_Time              0   0.000000\n",
      "Category                Category              0   0.000000\n",
      "\n",
      "**Total missing values:** 145\n",
      "**Percentage of dataset affected:** 0.02%\n",
      "**Duplicated rows found:** 0\n",
      "**Percentage of rows in dataset affected:** 0.00%\n"
     ]
    }
   ],
   "source": [
    "# Missing values per column\n",
    "missing_count = amazon_df.isnull().sum()\n",
    "missing_percent = (missing_count / len(amazon_df)) * 100\n",
    "\n",
    "# Duplicated rows\n",
    "duplicated_count = amazon_df.duplicated().sum()\n",
    "duplicated_percent = (duplicated_count / len(amazon_df)) * 100\n",
    "\n",
    "# Create summary DataFrame for Markdown\n",
    "missing_amazon_df = pd.DataFrame({\n",
    "    \"Column name\": amazon_df.columns,\n",
    "    \"Missing count\": missing_count,\n",
    "    \"% Missing\": missing_percent\n",
    "})\n",
    "\n",
    "# Print table\n",
    "print(missing_amazon_df)\n",
    "\n",
    "# Print summary\n",
    "print(f\"\\n**Total missing values:** {missing_count.sum()}\")\n",
    "print(f\"**Percentage of dataset affected:** {(missing_count.sum() / (len(amazon_df)*len(amazon_df.columns)) * 100):.2f}%\")\n",
    "print(f\"**Duplicated rows found:** {duplicated_count}\")\n",
    "print(f\"**Percentage of rows in dataset affected:** {duplicated_percent:.2f}%\")"
   ]
  },
  {
   "cell_type": "code",
   "execution_count": 143,
   "id": "f273be8d",
   "metadata": {},
   "outputs": [
    {
     "name": "stdout",
     "output_type": "stream",
     "text": [
      "| Column name     |   Missing count |   % Missing |\n",
      "|:----------------|----------------:|------------:|\n",
      "| Order_ID        |               0 |    0        |\n",
      "| Agent_Age       |               0 |    0        |\n",
      "| Agent_Rating    |              54 |    0.12346  |\n",
      "| Store_Latitude  |               0 |    0        |\n",
      "| Store_Longitude |               0 |    0        |\n",
      "| Drop_Latitude   |               0 |    0        |\n",
      "| Drop_Longitude  |               0 |    0        |\n",
      "| Order_Date      |               0 |    0        |\n",
      "| Order_Time      |               0 |    0        |\n",
      "| Pickup_Time     |               0 |    0        |\n",
      "| Weather         |              91 |    0.208052 |\n",
      "| Traffic         |               0 |    0        |\n",
      "| Vehicle         |               0 |    0        |\n",
      "| Area            |               0 |    0        |\n",
      "| Delivery_Time   |               0 |    0        |\n",
      "| Category        |               0 |    0        |\n",
      "\n",
      "**Total missing values:** 145\n",
      "**Percentage of dataset affected:** 0.02%\n",
      "**Duplicated rows found:** 0\n",
      "**Percentage of rows in dataset affected:** 0.00%\n"
     ]
    }
   ],
   "source": [
    "#Convert to markdown format\n",
    "print(missing_amazon_df.to_markdown(index=False))\n",
    "# Print summary\n",
    "print(f\"\\n**Total missing values:** {missing_count.sum()}\")\n",
    "print(f\"**Percentage of dataset affected:** {(missing_count.sum() / (len(amazon_df)*len(amazon_df.columns)) * 100):.2f}%\")\n",
    "print(f\"**Duplicated rows found:** {duplicated_count}\")\n",
    "print(f\"**Percentage of rows in dataset affected:** {duplicated_percent:.2f}%\")"
   ]
  }
 ],
 "metadata": {
  "kernelspec": {
   "display_name": "ASDA",
   "language": "python",
   "name": "python3"
  },
  "language_info": {
   "codemirror_mode": {
    "name": "ipython",
    "version": 3
   },
   "file_extension": ".py",
   "mimetype": "text/x-python",
   "name": "python",
   "nbconvert_exporter": "python",
   "pygments_lexer": "ipython3",
   "version": "3.10.18"
  }
 },
 "nbformat": 4,
 "nbformat_minor": 5
}
