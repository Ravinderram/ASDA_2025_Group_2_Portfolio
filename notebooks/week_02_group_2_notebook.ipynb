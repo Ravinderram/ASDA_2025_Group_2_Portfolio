{
 "cells": [
  {
   "cell_type": "code",
   "execution_count": 2,
   "id": "b9e3d02b",
   "metadata": {},
   "outputs": [
    {
     "name": "stdout",
     "output_type": "stream",
     "text": [
      "Warning: Looks like you're using an outdated `kagglehub` version, please consider updating (latest version: 0.3.13)\n"
     ]
    }
   ],
   "source": [
    "# Basic EDA of two datasets\n",
    "# Dataset 1: California Housing Prices\n",
    "\n",
    "import kagglehub\n",
    "import pandas as pd\n",
    "\n",
    "# 1. Dataset overview\n",
    "# Download latest version\n",
    "path = kagglehub.dataset_download(\"camnugent/california-housing-prices\")\n"
   ]
  },
  {
   "cell_type": "code",
   "execution_count": 12,
   "id": "70f96d58",
   "metadata": {},
   "outputs": [],
   "source": [
    "# Name dataset\n",
    "housing_df = pd.read_csv(f\"{path}/housing.csv\")"
   ]
  },
  {
   "cell_type": "code",
   "execution_count": 13,
   "id": "8de37fae",
   "metadata": {},
   "outputs": [
    {
     "data": {
      "text/plain": [
       "(20640, 10)"
      ]
     },
     "execution_count": 13,
     "metadata": {},
     "output_type": "execute_result"
    }
   ],
   "source": [
    "# Get rows and columns of dataset\n",
    "housing_df.shape"
   ]
  },
  {
   "cell_type": "code",
   "execution_count": null,
   "id": "d9c5cfd1",
   "metadata": {},
   "outputs": [
    {
     "name": "stdout",
     "output_type": "stream",
     "text": [
      "Warning: Looks like you're using an outdated `kagglehub` version, please consider updating (latest version: 0.3.13)\n",
      "Downloading from https://www.kaggle.com/api/v1/datasets/download/sujalsuthar/amazon-delivery-dataset?dataset_version_number=1...\n"
     ]
    },
    {
     "name": "stderr",
     "output_type": "stream",
     "text": [
      "100%|██████████| 1.53M/1.53M [00:00<00:00, 2.69MB/s]"
     ]
    },
    {
     "name": "stdout",
     "output_type": "stream",
     "text": [
      "Extracting model files...\n",
      "Path to dataset files: /Users/megankelly/.cache/kagglehub/datasets/sujalsuthar/amazon-delivery-dataset/versions/1\n"
     ]
    },
    {
     "name": "stderr",
     "output_type": "stream",
     "text": [
      "\n"
     ]
    }
   ],
   "source": [
    "#Dataset 2: structure of the data\n",
    "\n",
    "# Download latest version\n",
    "path_amazon = kagglehub.dataset_download(\"sujalsuthar/amazon-delivery-dataset\")\n",
    "\n",
    "print(\"Path to dataset files:\", path_amazon)"
   ]
  },
  {
   "cell_type": "code",
   "execution_count": 6,
   "id": "1b7ec13f",
   "metadata": {},
   "outputs": [],
   "source": [
    "# Name dataset\n",
    "amazon_df = pd.read_csv(f\"{path_amazon}/amazon_delivery.csv\")"
   ]
  },
  {
   "cell_type": "code",
   "execution_count": 17,
   "id": "06456891",
   "metadata": {},
   "outputs": [
    {
     "data": {
      "text/plain": [
       "Index(['Order_ID', 'Agent_Age', 'Agent_Rating', 'Store_Latitude',\n",
       "       'Store_Longitude', 'Drop_Latitude', 'Drop_Longitude', 'Order_Date',\n",
       "       'Order_Time', 'Pickup_Time', 'Weather', 'Traffic', 'Vehicle', 'Area',\n",
       "       'Delivery_Time', 'Category'],\n",
       "      dtype='object')"
      ]
     },
     "execution_count": 17,
     "metadata": {},
     "output_type": "execute_result"
    }
   ],
   "source": [
    "# Get column names\n",
    "amazon_df.columns\n"
   ]
  },
  {
   "cell_type": "code",
   "execution_count": null,
   "id": "ed5d97b1",
   "metadata": {},
   "outputs": [
    {
     "data": {
      "text/plain": [
       "Order_ID            object\n",
       "Agent_Age            int64\n",
       "Agent_Rating       float64\n",
       "Store_Latitude     float64\n",
       "Store_Longitude    float64\n",
       "Drop_Latitude      float64\n",
       "Drop_Longitude     float64\n",
       "Order_Date          object\n",
       "Order_Time          object\n",
       "Pickup_Time         object\n",
       "Weather             object\n",
       "Traffic             object\n",
       "Vehicle             object\n",
       "Area                object\n",
       "Delivery_Time        int64\n",
       "Category            object\n",
       "dtype: object"
      ]
     },
     "execution_count": 9,
     "metadata": {},
     "output_type": "execute_result"
    }
   ],
   "source": [
    "# Get column types\n",
    "amazon_df.dtypes"
   ]
  },
  {
   "cell_type": "code",
   "execution_count": 10,
   "id": "f1eb0cec",
   "metadata": {},
   "outputs": [
    {
     "name": "stdout",
     "output_type": "stream",
     "text": [
      "<class 'pandas.core.frame.DataFrame'>\n",
      "RangeIndex: 43739 entries, 0 to 43738\n",
      "Data columns (total 16 columns):\n",
      " #   Column           Non-Null Count  Dtype  \n",
      "---  ------           --------------  -----  \n",
      " 0   Order_ID         43739 non-null  object \n",
      " 1   Agent_Age        43739 non-null  int64  \n",
      " 2   Agent_Rating     43685 non-null  float64\n",
      " 3   Store_Latitude   43739 non-null  float64\n",
      " 4   Store_Longitude  43739 non-null  float64\n",
      " 5   Drop_Latitude    43739 non-null  float64\n",
      " 6   Drop_Longitude   43739 non-null  float64\n",
      " 7   Order_Date       43739 non-null  object \n",
      " 8   Order_Time       43739 non-null  object \n",
      " 9   Pickup_Time      43739 non-null  object \n",
      " 10  Weather          43648 non-null  object \n",
      " 11  Traffic          43739 non-null  object \n",
      " 12  Vehicle          43739 non-null  object \n",
      " 13  Area             43739 non-null  object \n",
      " 14  Delivery_Time    43739 non-null  int64  \n",
      " 15  Category         43739 non-null  object \n",
      "dtypes: float64(5), int64(2), object(9)\n",
      "memory usage: 5.3+ MB\n"
     ]
    }
   ],
   "source": [
    "# Get non-null counts\n",
    "amazon_df.info()"
   ]
  },
  {
   "cell_type": "code",
   "execution_count": null,
   "id": "288d0222",
   "metadata": {},
   "outputs": [
    {
     "data": {
      "text/plain": [
       "Order_ID           43739\n",
       "Agent_Age             22\n",
       "Agent_Rating          28\n",
       "Store_Latitude       521\n",
       "Store_Longitude      415\n",
       "Drop_Latitude       4367\n",
       "Drop_Longitude      4367\n",
       "Order_Date            44\n",
       "Order_Time           177\n",
       "Pickup_Time          193\n",
       "Weather                6\n",
       "Traffic                5\n",
       "Vehicle                4\n",
       "Area                   4\n",
       "Delivery_Time         89\n",
       "Category              16\n",
       "dtype: int64"
      ]
     },
     "execution_count": 13,
     "metadata": {},
     "output_type": "execute_result"
    }
   ],
   "source": [
    "# Get number of unique values in each column\n",
    "amazon_df.nunique()"
   ]
  },
  {
   "cell_type": "code",
   "execution_count": null,
   "id": "f3325824",
   "metadata": {},
   "outputs": [
    {
     "data": {
      "text/html": [
       "<div>\n",
       "<style scoped>\n",
       "    .dataframe tbody tr th:only-of-type {\n",
       "        vertical-align: middle;\n",
       "    }\n",
       "\n",
       "    .dataframe tbody tr th {\n",
       "        vertical-align: top;\n",
       "    }\n",
       "\n",
       "    .dataframe thead th {\n",
       "        text-align: right;\n",
       "    }\n",
       "</style>\n",
       "<table border=\"1\" class=\"dataframe\">\n",
       "  <thead>\n",
       "    <tr style=\"text-align: right;\">\n",
       "      <th></th>\n",
       "      <th>Order_ID</th>\n",
       "      <th>Agent_Age</th>\n",
       "      <th>Agent_Rating</th>\n",
       "      <th>Store_Latitude</th>\n",
       "      <th>Store_Longitude</th>\n",
       "      <th>Drop_Latitude</th>\n",
       "      <th>Drop_Longitude</th>\n",
       "      <th>Order_Date</th>\n",
       "      <th>Order_Time</th>\n",
       "      <th>Pickup_Time</th>\n",
       "      <th>Weather</th>\n",
       "      <th>Traffic</th>\n",
       "      <th>Vehicle</th>\n",
       "      <th>Area</th>\n",
       "      <th>Delivery_Time</th>\n",
       "      <th>Category</th>\n",
       "    </tr>\n",
       "  </thead>\n",
       "  <tbody>\n",
       "    <tr>\n",
       "      <th>16784</th>\n",
       "      <td>rxlj896944852</td>\n",
       "      <td>38</td>\n",
       "      <td>4.6</td>\n",
       "      <td>22.310237</td>\n",
       "      <td>73.158921</td>\n",
       "      <td>22.350237</td>\n",
       "      <td>73.198921</td>\n",
       "      <td>2022-03-19</td>\n",
       "      <td>16:55:00</td>\n",
       "      <td>17:00:00</td>\n",
       "      <td>Windy</td>\n",
       "      <td>Medium</td>\n",
       "      <td>motorcycle</td>\n",
       "      <td>Metropolitian</td>\n",
       "      <td>135</td>\n",
       "      <td>Electronics</td>\n",
       "    </tr>\n",
       "    <tr>\n",
       "      <th>5337</th>\n",
       "      <td>dxrl758847749</td>\n",
       "      <td>25</td>\n",
       "      <td>4.5</td>\n",
       "      <td>30.362686</td>\n",
       "      <td>78.068890</td>\n",
       "      <td>30.402686</td>\n",
       "      <td>78.108890</td>\n",
       "      <td>2022-02-13</td>\n",
       "      <td>15:35:00</td>\n",
       "      <td>15:45:00</td>\n",
       "      <td>Stormy</td>\n",
       "      <td>Medium</td>\n",
       "      <td>scooter</td>\n",
       "      <td>Metropolitian</td>\n",
       "      <td>100</td>\n",
       "      <td>Books</td>\n",
       "    </tr>\n",
       "    <tr>\n",
       "      <th>26216</th>\n",
       "      <td>gyvu619312967</td>\n",
       "      <td>34</td>\n",
       "      <td>5.0</td>\n",
       "      <td>26.766536</td>\n",
       "      <td>75.837333</td>\n",
       "      <td>26.896536</td>\n",
       "      <td>75.967333</td>\n",
       "      <td>2022-03-14</td>\n",
       "      <td>20:25:00</td>\n",
       "      <td>20:40:00</td>\n",
       "      <td>Fog</td>\n",
       "      <td>Jam</td>\n",
       "      <td>motorcycle</td>\n",
       "      <td>Metropolitian</td>\n",
       "      <td>255</td>\n",
       "      <td>Cosmetics</td>\n",
       "    </tr>\n",
       "    <tr>\n",
       "      <th>12430</th>\n",
       "      <td>oesd656963584</td>\n",
       "      <td>39</td>\n",
       "      <td>4.9</td>\n",
       "      <td>11.024839</td>\n",
       "      <td>77.007003</td>\n",
       "      <td>11.104839</td>\n",
       "      <td>77.087003</td>\n",
       "      <td>2022-04-02</td>\n",
       "      <td>22:45:00</td>\n",
       "      <td>22:50:00</td>\n",
       "      <td>Windy</td>\n",
       "      <td>Low</td>\n",
       "      <td>motorcycle</td>\n",
       "      <td>Urban</td>\n",
       "      <td>130</td>\n",
       "      <td>Outdoors</td>\n",
       "    </tr>\n",
       "    <tr>\n",
       "      <th>27136</th>\n",
       "      <td>eoup958817341</td>\n",
       "      <td>21</td>\n",
       "      <td>4.8</td>\n",
       "      <td>0.000000</td>\n",
       "      <td>0.000000</td>\n",
       "      <td>0.090000</td>\n",
       "      <td>0.090000</td>\n",
       "      <td>2022-02-18</td>\n",
       "      <td>21:25:00</td>\n",
       "      <td>21:35:00</td>\n",
       "      <td>Stormy</td>\n",
       "      <td>Jam</td>\n",
       "      <td>motorcycle</td>\n",
       "      <td>Metropolitian</td>\n",
       "      <td>150</td>\n",
       "      <td>Jewelry</td>\n",
       "    </tr>\n",
       "  </tbody>\n",
       "</table>\n",
       "</div>"
      ],
      "text/plain": [
       "            Order_ID  Agent_Age  Agent_Rating  Store_Latitude  \\\n",
       "16784  rxlj896944852         38           4.6       22.310237   \n",
       "5337   dxrl758847749         25           4.5       30.362686   \n",
       "26216  gyvu619312967         34           5.0       26.766536   \n",
       "12430  oesd656963584         39           4.9       11.024839   \n",
       "27136  eoup958817341         21           4.8        0.000000   \n",
       "\n",
       "       Store_Longitude  Drop_Latitude  Drop_Longitude  Order_Date Order_Time  \\\n",
       "16784        73.158921      22.350237       73.198921  2022-03-19   16:55:00   \n",
       "5337         78.068890      30.402686       78.108890  2022-02-13   15:35:00   \n",
       "26216        75.837333      26.896536       75.967333  2022-03-14   20:25:00   \n",
       "12430        77.007003      11.104839       77.087003  2022-04-02   22:45:00   \n",
       "27136         0.000000       0.090000        0.090000  2022-02-18   21:25:00   \n",
       "\n",
       "      Pickup_Time Weather  Traffic      Vehicle            Area  \\\n",
       "16784    17:00:00   Windy  Medium   motorcycle   Metropolitian    \n",
       "5337     15:45:00  Stormy  Medium      scooter   Metropolitian    \n",
       "26216    20:40:00     Fog     Jam   motorcycle   Metropolitian    \n",
       "12430    22:50:00   Windy     Low   motorcycle           Urban    \n",
       "27136    21:35:00  Stormy     Jam   motorcycle   Metropolitian    \n",
       "\n",
       "       Delivery_Time     Category  \n",
       "16784            135  Electronics  \n",
       "5337             100        Books  \n",
       "26216            255    Cosmetics  \n",
       "12430            130     Outdoors  \n",
       "27136            150      Jewelry  "
      ]
     },
     "execution_count": 14,
     "metadata": {},
     "output_type": "execute_result"
    }
   ],
   "source": [
    "# Get random sample of 5 rows to see example values\n",
    "amazon_df.sample(5)"
   ]
  },
  {
   "cell_type": "code",
   "execution_count": null,
   "id": "d17cf1ce",
   "metadata": {},
   "outputs": [
    {
     "name": "stdout",
     "output_type": "stream",
     "text": [
      "                     Column name Data type  Unique values\n",
      "Order_ID                Order_ID    object          43739\n",
      "Agent_Age              Agent_Age     int64             22\n",
      "Agent_Rating        Agent_Rating   float64             28\n",
      "Store_Latitude    Store_Latitude   float64            521\n",
      "Store_Longitude  Store_Longitude   float64            415\n",
      "Drop_Latitude      Drop_Latitude   float64           4367\n",
      "Drop_Longitude    Drop_Longitude   float64           4367\n",
      "Order_Date            Order_Date    object             44\n",
      "Order_Time            Order_Time    object            177\n",
      "Pickup_Time          Pickup_Time    object            193\n",
      "Weather                  Weather    object              6\n",
      "Traffic                  Traffic    object              5\n",
      "Vehicle                  Vehicle    object              4\n",
      "Area                        Area    object              4\n",
      "Delivery_Time      Delivery_Time     int64             89\n",
      "Category                Category    object             16\n"
     ]
    }
   ],
   "source": [
    "summary_2 = pd.DataFrame({\"Column name\":amazon_df.columns, \"Data type\": amazon_df.dtypes, \"Non-null count\": amazon_df.isna(),Unique values\":amazon_df.nunique(), \"Example values\": })\n",
    "print(summary_2)"
   ]
  }
 ],
 "metadata": {
  "kernelspec": {
   "display_name": "base",
   "language": "python",
   "name": "python3"
  },
  "language_info": {
   "codemirror_mode": {
    "name": "ipython",
    "version": 3
   },
   "file_extension": ".py",
   "mimetype": "text/x-python",
   "name": "python",
   "nbconvert_exporter": "python",
   "pygments_lexer": "ipython3",
   "version": "3.13.9"
  }
 },
 "nbformat": 4,
 "nbformat_minor": 5
}
