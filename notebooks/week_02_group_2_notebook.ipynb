{
 "cells": [
  {
   "cell_type": "code",
   "execution_count": null,
   "id": "b9e3d02b",
   "metadata": {},
   "outputs": [
    {
     "name": "stdout",
     "output_type": "stream",
     "text": [
      "Warning: Looks like you're using an outdated `kagglehub` version, please consider updating (latest version: 0.3.13)\n",
      "Path to dataset /Users/megankelly/.cache/kagglehub/datasets/camnugent/california-housing-prices/versions/1\n"
     ]
    }
   ],
   "source": [
    "# Basic EDA of two datasets\n",
    "# Dataset 1: California Housing Prices\n",
    "\n",
    "import kagglehub\n",
    "import pandas as pd\n",
    "\n",
    "# 1. Dataset overview\n",
    "# Download latest version\n",
    "path = kagglehub.dataset_download(\"camnugent/california-housing-prices\")\n"
   ]
  },
  {
   "cell_type": "code",
   "execution_count": 12,
   "id": "70f96d58",
   "metadata": {},
   "outputs": [],
   "source": [
    "# Name dataset\n",
    "housing_df = pd.read_csv(f\"{path}/housing.csv\")"
   ]
  },
  {
   "cell_type": "code",
   "execution_count": 13,
   "id": "8de37fae",
   "metadata": {},
   "outputs": [
    {
     "data": {
      "text/plain": [
       "(20640, 10)"
      ]
     },
     "execution_count": 13,
     "metadata": {},
     "output_type": "execute_result"
    }
   ],
   "source": [
    "# Get rows and columns of dataset\n",
    "housing_df.shape"
   ]
  }
 ],
 "metadata": {
  "kernelspec": {
   "display_name": "base",
   "language": "python",
   "name": "python3"
  },
  "language_info": {
   "codemirror_mode": {
    "name": "ipython",
    "version": 3
   },
   "file_extension": ".py",
   "mimetype": "text/x-python",
   "name": "python",
   "nbconvert_exporter": "python",
   "pygments_lexer": "ipython3",
   "version": "3.13.9"
  }
 },
 "nbformat": 4,
 "nbformat_minor": 5
}
